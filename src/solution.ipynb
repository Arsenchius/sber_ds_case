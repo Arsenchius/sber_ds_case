{
 "cells": [
  {
   "cell_type": "code",
   "execution_count": 1,
   "metadata": {},
   "outputs": [],
   "source": [
    "import sys\n",
    "import pandas as pd\n",
    "import numpy as np\n",
    "import lightgbm as lgb\n",
    "import optuna\n",
    "from tqdm import tqdm_notebook\n",
    "from catboost import Pool, CatBoostClassifier\n",
    "from matplotlib import pyplot as plt\n",
    "from gensim.models import Word2Vec\n",
    "from optuna.trial import Trial\n",
    "from optuna.samplers import TPESampler\n",
    "from mpl_toolkits.mplot3d import Axes3D\n",
    "from sklearn.preprocessing import MinMaxScaler, StandardScaler, RobustScaler\n",
    "from sklearn.neighbors import KNeighborsClassifier\n",
    "from sklearn.pipeline import make_pipeline\n",
    "from sklearn.model_selection import cross_val_score, StratifiedKFold, train_test_split, GridSearchCV\n",
    "from sklearn.manifold import TSNE\n",
    "from sklearn.svm import SVC, LinearSVC\n",
    "from sklearn.neighbors import NearestNeighbors\n",
    "from sklearn.naive_bayes import GaussianNB\n",
    "from sklearn.tree import DecisionTreeClassifier\n",
    "from sklearn.ensemble import RandomForestClassifier\n",
    "from sklearn.linear_model import LogisticRegression\n",
    "from sklearn.metrics import log_loss, precision_score, recall_score, f1_score, accuracy_score, classification_report, confusion_matrix, roc_auc_score\n",
    "import warnings\n",
    "warnings.filterwarnings(\"ignore\")"
   ]
  },
  {
   "cell_type": "code",
   "execution_count": 2,
   "metadata": {},
   "outputs": [],
   "source": [
    "data_path = \"/home/kenny/sber_ds_case/data/raw/test.csv\""
   ]
  },
  {
   "cell_type": "code",
   "execution_count": 3,
   "metadata": {},
   "outputs": [],
   "source": [
    "data = pd.read_csv(data_path)"
   ]
  },
  {
   "cell_type": "code",
   "execution_count": 4,
   "metadata": {},
   "outputs": [
    {
     "data": {
      "text/html": [
       "<div>\n",
       "<style scoped>\n",
       "    .dataframe tbody tr th:only-of-type {\n",
       "        vertical-align: middle;\n",
       "    }\n",
       "\n",
       "    .dataframe tbody tr th {\n",
       "        vertical-align: top;\n",
       "    }\n",
       "\n",
       "    .dataframe thead th {\n",
       "        text-align: right;\n",
       "    }\n",
       "</style>\n",
       "<table border=\"1\" class=\"dataframe\">\n",
       "  <thead>\n",
       "    <tr style=\"text-align: right;\">\n",
       "      <th></th>\n",
       "      <th>title</th>\n",
       "      <th>text</th>\n",
       "      <th>topic</th>\n",
       "    </tr>\n",
       "  </thead>\n",
       "  <tbody>\n",
       "    <tr>\n",
       "      <th>0</th>\n",
       "      <td>Британцы отмечают двухлетие смерти Дианы</td>\n",
       "      <td>&lt;?xml version=\"1.0\" encoding=\"utf-8\"?&gt;\\n&lt;conve...</td>\n",
       "      <td>Мир</td>\n",
       "    </tr>\n",
       "    <tr>\n",
       "      <th>1</th>\n",
       "      <td>Еще одно землетрясение в Турции: один человек ...</td>\n",
       "      <td>&lt;?xml version=\"1.0\" encoding=\"utf-8\"?&gt;\\n&lt;conve...</td>\n",
       "      <td>Мир</td>\n",
       "    </tr>\n",
       "    <tr>\n",
       "      <th>2</th>\n",
       "      <td>Российские национал-большевики убирают террито...</td>\n",
       "      <td>&lt;?xml version=\"1.0\" encoding=\"utf-8\"?&gt;\\n&lt;conve...</td>\n",
       "      <td>Мир</td>\n",
       "    </tr>\n",
       "    <tr>\n",
       "      <th>3</th>\n",
       "      <td>Киргизия ведет бои на границах с Таджикистаном...</td>\n",
       "      <td>&lt;?xml version=\"1.0\" encoding=\"utf-8\"?&gt;\\n&lt;conve...</td>\n",
       "      <td>Мир</td>\n",
       "    </tr>\n",
       "    <tr>\n",
       "      <th>4</th>\n",
       "      <td>Литва засудила участников переворота 91 года</td>\n",
       "      <td>&lt;?xml version=\"1.0\" encoding=\"utf-8\"?&gt;\\n&lt;conve...</td>\n",
       "      <td>Мир</td>\n",
       "    </tr>\n",
       "    <tr>\n",
       "      <th>...</th>\n",
       "      <td>...</td>\n",
       "      <td>...</td>\n",
       "      <td>...</td>\n",
       "    </tr>\n",
       "    <tr>\n",
       "      <th>432153</th>\n",
       "      <td>Россия предложила Китаю участвовать в судьбе р...</td>\n",
       "      <td>&lt;?xml version=\"1.0\" encoding=\"utf-8\"?&gt;\\n&lt;conve...</td>\n",
       "      <td>Мир</td>\n",
       "    </tr>\n",
       "    <tr>\n",
       "      <th>432154</th>\n",
       "      <td>Моуринью сравнил футболистов с мебелью</td>\n",
       "      <td>&lt;?xml version=\"1.0\" encoding=\"utf-8\"?&gt;\\n&lt;conve...</td>\n",
       "      <td>Спорт</td>\n",
       "    </tr>\n",
       "    <tr>\n",
       "      <th>432155</th>\n",
       "      <td>Путин предостерег от запретов рэп-концертов</td>\n",
       "      <td>&lt;?xml version=\"1.0\" encoding=\"utf-8\"?&gt;\\n&lt;conve...</td>\n",
       "      <td>Культура</td>\n",
       "    </tr>\n",
       "    <tr>\n",
       "      <th>432156</th>\n",
       "      <td>«Желтые жилеты» прорвали кордон полиции под «М...</td>\n",
       "      <td>&lt;?xml version=\"1.0\" encoding=\"utf-8\"?&gt;\\n&lt;conve...</td>\n",
       "      <td>Мир</td>\n",
       "    </tr>\n",
       "    <tr>\n",
       "      <th>432157</th>\n",
       "      <td>Падение горнолыжника на полной скорости попало...</td>\n",
       "      <td>&lt;?xml version=\"1.0\" encoding=\"utf-8\"?&gt;\\n&lt;conve...</td>\n",
       "      <td>Спорт</td>\n",
       "    </tr>\n",
       "  </tbody>\n",
       "</table>\n",
       "<p>432158 rows × 3 columns</p>\n",
       "</div>"
      ],
      "text/plain": [
       "                                                    title  \\\n",
       "0                Британцы отмечают двухлетие смерти Дианы   \n",
       "1       Еще одно землетрясение в Турции: один человек ...   \n",
       "2       Российские национал-большевики убирают террито...   \n",
       "3       Киргизия ведет бои на границах с Таджикистаном...   \n",
       "4            Литва засудила участников переворота 91 года   \n",
       "...                                                   ...   \n",
       "432153  Россия предложила Китаю участвовать в судьбе р...   \n",
       "432154             Моуринью сравнил футболистов с мебелью   \n",
       "432155        Путин предостерег от запретов рэп-концертов   \n",
       "432156  «Желтые жилеты» прорвали кордон полиции под «М...   \n",
       "432157  Падение горнолыжника на полной скорости попало...   \n",
       "\n",
       "                                                     text     topic  \n",
       "0       <?xml version=\"1.0\" encoding=\"utf-8\"?>\\n<conve...       Мир  \n",
       "1       <?xml version=\"1.0\" encoding=\"utf-8\"?>\\n<conve...       Мир  \n",
       "2       <?xml version=\"1.0\" encoding=\"utf-8\"?>\\n<conve...       Мир  \n",
       "3       <?xml version=\"1.0\" encoding=\"utf-8\"?>\\n<conve...       Мир  \n",
       "4       <?xml version=\"1.0\" encoding=\"utf-8\"?>\\n<conve...       Мир  \n",
       "...                                                   ...       ...  \n",
       "432153  <?xml version=\"1.0\" encoding=\"utf-8\"?>\\n<conve...       Мир  \n",
       "432154  <?xml version=\"1.0\" encoding=\"utf-8\"?>\\n<conve...     Спорт  \n",
       "432155  <?xml version=\"1.0\" encoding=\"utf-8\"?>\\n<conve...  Культура  \n",
       "432156  <?xml version=\"1.0\" encoding=\"utf-8\"?>\\n<conve...       Мир  \n",
       "432157  <?xml version=\"1.0\" encoding=\"utf-8\"?>\\n<conve...     Спорт  \n",
       "\n",
       "[432158 rows x 3 columns]"
      ]
     },
     "execution_count": 4,
     "metadata": {},
     "output_type": "execute_result"
    }
   ],
   "source": [
    "data"
   ]
  },
  {
   "cell_type": "code",
   "execution_count": 5,
   "metadata": {},
   "outputs": [
    {
     "data": {
      "text/plain": [
       "array(['Мир', 'Экономика', 'Интернет и СМИ', 'Спорт', 'Культура',\n",
       "       'Наука и техника'], dtype=object)"
      ]
     },
     "execution_count": 5,
     "metadata": {},
     "output_type": "execute_result"
    }
   ],
   "source": [
    "data.topic.unique()"
   ]
  },
  {
   "cell_type": "markdown",
   "metadata": {},
   "source": [
    "проверим наличие пустых данных"
   ]
  },
  {
   "cell_type": "code",
   "execution_count": 6,
   "metadata": {},
   "outputs": [
    {
     "data": {
      "text/plain": [
       "title    0\n",
       "text     0\n",
       "topic    0\n",
       "dtype: int64"
      ]
     },
     "execution_count": 6,
     "metadata": {},
     "output_type": "execute_result"
    }
   ],
   "source": [
    "data.isna().sum()"
   ]
  },
  {
   "cell_type": "code",
   "execution_count": 7,
   "metadata": {},
   "outputs": [
    {
     "data": {
      "text/plain": [
       "<Axes: xlabel='topic'>"
      ]
     },
     "execution_count": 7,
     "metadata": {},
     "output_type": "execute_result"
    },
    {
     "data": {
      "image/png": "[encoded data removed]",
      "text/plain": [
       "<Figure size 640x480 with 1 Axes>"
      ]
     },
     "metadata": {},
     "output_type": "display_data"
    }
   ],
   "source": [
    "# проверим баланс классов целевой переменной\n",
    "data['topic'].value_counts(normalize = True).plot.bar()"
   ]
  },
  {
   "cell_type": "code",
   "execution_count": 8,
   "metadata": {},
   "outputs": [
    {
     "data": {
      "text/plain": [
       "<matplotlib.legend.Legend at 0x7f0ec1530a00>"
      ]
     },
     "execution_count": 8,
     "metadata": {},
     "output_type": "execute_result"
    },
    {
     "data": {
      "image/png": "[encoded data removed]",
      "text/plain": [
       "<Figure size 1400x700 with 1 Axes>"
      ]
     },
     "metadata": {},
     "output_type": "display_data"
    }
   ],
   "source": [
    "values = list(data.topic.value_counts())\n",
    "topics = list(data.topic.value_counts().index)\n",
    "\n",
    "plt.figure(figsize = (14,7))\n",
    "plt.style.use('_mpl-gallery')\n",
    "plt.grid()\n",
    "plt.bar(topics, values, width=1, edgecolor=\"white\", linewidth=1, label='topics', color='b')\n",
    "plt.legend(loc = 1)"
   ]
  },
  {
   "cell_type": "markdown",
   "metadata": {},
   "source": [
    "# Обработка данных"
   ]
  },
  {
   "cell_type": "code",
   "execution_count": 3,
   "metadata": {},
   "outputs": [
    {
     "name": "stdout",
     "output_type": "stream",
     "text": [
      "100%|████████████████████████████████████| 32158/32158 [01:50<00:00, 291.44it/s]\n",
      "100%|████████████████████████████████████| 50000/50000 [01:52<00:00, 444.80it/s]\n",
      "100%|████████████████████████████████████| 50000/50000 [02:05<00:00, 397.33it/s]\n",
      "100%|████████████████████████████████████| 50000/50000 [02:14<00:00, 373.09it/s]\n",
      "100%|████████████████████████████████████| 50000/50000 [02:32<00:00, 327.03it/s]\n",
      "100%|████████████████████████████████████| 50000/50000 [02:36<00:00, 319.63it/s]\n",
      "100%|████████████████████████████████████| 50000/50000 [02:41<00:00, 309.03it/s]\n",
      "100%|████████████████████████████████████| 50000/50000 [02:48<00:00, 297.61it/s]\n",
      "100%|████████████████████████████████████| 50000/50000 [02:48<00:00, 296.75it/s]\n"
     ]
    }
   ],
   "source": [
    "!sh data/preprocessing.sh data/preprocessing.py 50000 "
   ]
  },
  {
   "cell_type": "markdown",
   "metadata": {},
   "source": [
    "# Посмотрим на обработанные данные"
   ]
  },
  {
   "cell_type": "code",
   "execution_count": 3,
   "metadata": {},
   "outputs": [],
   "source": [
    "processed_data_path = \"/home/kenny/sber_ds_case/data/processed/train_data.csv\""
   ]
  },
  {
   "cell_type": "code",
   "execution_count": 6,
   "metadata": {},
   "outputs": [],
   "source": [
    "processed_data = pd.read_csv(processed_data_path)"
   ]
  },
  {
   "cell_type": "code",
   "execution_count": 7,
   "metadata": {},
   "outputs": [
    {
     "data": {
      "text/html": [
       "<div>\n",
       "<style scoped>\n",
       "    .dataframe tbody tr th:only-of-type {\n",
       "        vertical-align: middle;\n",
       "    }\n",
       "\n",
       "    .dataframe tbody tr th {\n",
       "        vertical-align: top;\n",
       "    }\n",
       "\n",
       "    .dataframe thead th {\n",
       "        text-align: right;\n",
       "    }\n",
       "</style>\n",
       "<table border=\"1\" class=\"dataframe\">\n",
       "  <thead>\n",
       "    <tr style=\"text-align: right;\">\n",
       "      <th></th>\n",
       "      <th>title</th>\n",
       "      <th>text</th>\n",
       "      <th>topic</th>\n",
       "      <th>full_text</th>\n",
       "    </tr>\n",
       "  </thead>\n",
       "  <tbody>\n",
       "    <tr>\n",
       "      <th>0</th>\n",
       "      <td>Неймар купил пятиэтажку в пригороде Парижа</td>\n",
       "      <td>&lt;?xml version=\"1.0\" encoding=\"utf-8\"?&gt;\\n&lt;conve...</td>\n",
       "      <td>Спорт</td>\n",
       "      <td>неймара купить пятиэтажка пригород париж напад...</td>\n",
       "    </tr>\n",
       "    <tr>\n",
       "      <th>1</th>\n",
       "      <td>Официальный евро упал ниже 69 рублей</td>\n",
       "      <td>&lt;?xml version=\"1.0\" encoding=\"utf-8\"?&gt;\\n&lt;conve...</td>\n",
       "      <td>Экономика</td>\n",
       "      <td>официальный евро упасть ниже 69 рубль официаль...</td>\n",
       "    </tr>\n",
       "    <tr>\n",
       "      <th>2</th>\n",
       "      <td>Гребец опубликовал фото ладоней после плавания...</td>\n",
       "      <td>&lt;?xml version=\"1.0\" encoding=\"utf-8\"?&gt;\\n&lt;conve...</td>\n",
       "      <td>Спорт</td>\n",
       "      <td>гребец опубликовать фото ладонь плавание север...</td>\n",
       "    </tr>\n",
       "    <tr>\n",
       "      <th>3</th>\n",
       "      <td>Плющенко рассказал о вреде «Ледникового период...</td>\n",
       "      <td>&lt;?xml version=\"1.0\" encoding=\"utf-8\"?&gt;\\n&lt;conve...</td>\n",
       "      <td>Спорт</td>\n",
       "      <td>плющенко рассказать вред ледниковый период сот...</td>\n",
       "    </tr>\n",
       "    <tr>\n",
       "      <th>4</th>\n",
       "      <td>Генконсульство России в Сан-Франциско назвало ...</td>\n",
       "      <td>&lt;?xml version=\"1.0\" encoding=\"utf-8\"?&gt;\\n&lt;conve...</td>\n",
       "      <td>Мир</td>\n",
       "      <td>генконсульство россия сан франциско назвать чи...</td>\n",
       "    </tr>\n",
       "    <tr>\n",
       "      <th>...</th>\n",
       "      <td>...</td>\n",
       "      <td>...</td>\n",
       "      <td>...</td>\n",
       "      <td>...</td>\n",
       "    </tr>\n",
       "    <tr>\n",
       "      <th>432153</th>\n",
       "      <td>Минобрнауки измерит патриотизм в World of Tank...</td>\n",
       "      <td>&lt;?xml version=\"1.0\" encoding=\"utf-8\"?&gt;\\n&lt;conve...</td>\n",
       "      <td>Наука и техника</td>\n",
       "      <td>минобрнауки измерить патриотизм world of tanks...</td>\n",
       "    </tr>\n",
       "    <tr>\n",
       "      <th>432154</th>\n",
       "      <td>Букмекеры предрекли победу шейха Салмана на вы...</td>\n",
       "      <td>&lt;?xml version=\"1.0\" encoding=\"utf-8\"?&gt;\\n&lt;conve...</td>\n",
       "      <td>Спорт</td>\n",
       "      <td>букмекер предречь победа шейх салман выборы пр...</td>\n",
       "    </tr>\n",
       "    <tr>\n",
       "      <th>432155</th>\n",
       "      <td>В Москве на «Робоелке» начнет работу детский т...</td>\n",
       "      <td>&lt;?xml version=\"1.0\" encoding=\"utf-8\"?&gt;\\n&lt;conve...</td>\n",
       "      <td>Наука и техника</td>\n",
       "      <td>москва робоёлка начать работа детский технопар...</td>\n",
       "    </tr>\n",
       "    <tr>\n",
       "      <th>432156</th>\n",
       "      <td>Жириновский заявил о передаче Путину запрещенн...</td>\n",
       "      <td>&lt;?xml version=\"1.0\" encoding=\"utf-8\"?&gt;\\n&lt;conve...</td>\n",
       "      <td>Интернет и СМИ</td>\n",
       "      <td>жириновский заявить передача путин запретить в...</td>\n",
       "    </tr>\n",
       "    <tr>\n",
       "      <th>432157</th>\n",
       "      <td>Австрийский радиодиджей 24 раза проиграл слуша...</td>\n",
       "      <td>&lt;?xml version=\"1.0\" encoding=\"utf-8\"?&gt;\\n&lt;conve...</td>\n",
       "      <td>Интернет и СМИ</td>\n",
       "      <td>австрийский радиодиджей 24 раз проиграть слуша...</td>\n",
       "    </tr>\n",
       "  </tbody>\n",
       "</table>\n",
       "<p>432158 rows × 4 columns</p>\n",
       "</div>"
      ],
      "text/plain": [
       "                                                    title  \\\n",
       "0              Неймар купил пятиэтажку в пригороде Парижа   \n",
       "1                    Официальный евро упал ниже 69 рублей   \n",
       "2       Гребец опубликовал фото ладоней после плавания...   \n",
       "3       Плющенко рассказал о вреде «Ледникового период...   \n",
       "4       Генконсульство России в Сан-Франциско назвало ...   \n",
       "...                                                   ...   \n",
       "432153  Минобрнауки измерит патриотизм в World of Tank...   \n",
       "432154  Букмекеры предрекли победу шейха Салмана на вы...   \n",
       "432155  В Москве на «Робоелке» начнет работу детский т...   \n",
       "432156  Жириновский заявил о передаче Путину запрещенн...   \n",
       "432157  Австрийский радиодиджей 24 раза проиграл слуша...   \n",
       "\n",
       "                                                     text            topic  \\\n",
       "0       <?xml version=\"1.0\" encoding=\"utf-8\"?>\\n<conve...            Спорт   \n",
       "1       <?xml version=\"1.0\" encoding=\"utf-8\"?>\\n<conve...        Экономика   \n",
       "2       <?xml version=\"1.0\" encoding=\"utf-8\"?>\\n<conve...            Спорт   \n",
       "3       <?xml version=\"1.0\" encoding=\"utf-8\"?>\\n<conve...            Спорт   \n",
       "4       <?xml version=\"1.0\" encoding=\"utf-8\"?>\\n<conve...              Мир   \n",
       "...                                                   ...              ...   \n",
       "432153  <?xml version=\"1.0\" encoding=\"utf-8\"?>\\n<conve...  Наука и техника   \n",
       "432154  <?xml version=\"1.0\" encoding=\"utf-8\"?>\\n<conve...            Спорт   \n",
       "432155  <?xml version=\"1.0\" encoding=\"utf-8\"?>\\n<conve...  Наука и техника   \n",
       "432156  <?xml version=\"1.0\" encoding=\"utf-8\"?>\\n<conve...   Интернет и СМИ   \n",
       "432157  <?xml version=\"1.0\" encoding=\"utf-8\"?>\\n<conve...   Интернет и СМИ   \n",
       "\n",
       "                                                full_text  \n",
       "0       неймара купить пятиэтажка пригород париж напад...  \n",
       "1       официальный евро упасть ниже 69 рубль официаль...  \n",
       "2       гребец опубликовать фото ладонь плавание север...  \n",
       "3       плющенко рассказать вред ледниковый период сот...  \n",
       "4       генконсульство россия сан франциско назвать чи...  \n",
       "...                                                   ...  \n",
       "432153  минобрнауки измерить патриотизм world of tanks...  \n",
       "432154  букмекер предречь победа шейх салман выборы пр...  \n",
       "432155  москва робоёлка начать работа детский технопар...  \n",
       "432156  жириновский заявить передача путин запретить в...  \n",
       "432157  австрийский радиодиджей 24 раз проиграть слуша...  \n",
       "\n",
       "[432158 rows x 4 columns]"
      ]
     },
     "execution_count": 7,
     "metadata": {},
     "output_type": "execute_result"
    }
   ],
   "source": [
    "processed_data"
   ]
  },
  {
   "cell_type": "code",
   "execution_count": 8,
   "metadata": {},
   "outputs": [
    {
     "data": {
      "text/plain": [
       "array([3, 1, 0, 2, 4, 5])"
      ]
     },
     "execution_count": 8,
     "metadata": {},
     "output_type": "execute_result"
    }
   ],
   "source": [
    "processed_data.topic = processed_data.topic.map({'Мир':0, 'Экономика':1, 'Интернет и СМИ':2, 'Спорт':3, 'Культура':4,'Наука и техника':5})\n",
    "processed_data.topic.unique()"
   ]
  },
  {
   "cell_type": "code",
   "execution_count": 9,
   "metadata": {},
   "outputs": [
    {
     "data": {
      "text/html": [
       "<div>\n",
       "<style scoped>\n",
       "    .dataframe tbody tr th:only-of-type {\n",
       "        vertical-align: middle;\n",
       "    }\n",
       "\n",
       "    .dataframe tbody tr th {\n",
       "        vertical-align: top;\n",
       "    }\n",
       "\n",
       "    .dataframe thead th {\n",
       "        text-align: right;\n",
       "    }\n",
       "</style>\n",
       "<table border=\"1\" class=\"dataframe\">\n",
       "  <thead>\n",
       "    <tr style=\"text-align: right;\">\n",
       "      <th></th>\n",
       "      <th>title</th>\n",
       "      <th>text</th>\n",
       "      <th>topic</th>\n",
       "      <th>full_text</th>\n",
       "    </tr>\n",
       "  </thead>\n",
       "  <tbody>\n",
       "    <tr>\n",
       "      <th>0</th>\n",
       "      <td>Неймар купил пятиэтажку в пригороде Парижа</td>\n",
       "      <td>&lt;?xml version=\"1.0\" encoding=\"utf-8\"?&gt;\\n&lt;conve...</td>\n",
       "      <td>3</td>\n",
       "      <td>неймара купить пятиэтажка пригород париж напад...</td>\n",
       "    </tr>\n",
       "    <tr>\n",
       "      <th>1</th>\n",
       "      <td>Официальный евро упал ниже 69 рублей</td>\n",
       "      <td>&lt;?xml version=\"1.0\" encoding=\"utf-8\"?&gt;\\n&lt;conve...</td>\n",
       "      <td>1</td>\n",
       "      <td>официальный евро упасть ниже 69 рубль официаль...</td>\n",
       "    </tr>\n",
       "    <tr>\n",
       "      <th>2</th>\n",
       "      <td>Гребец опубликовал фото ладоней после плавания...</td>\n",
       "      <td>&lt;?xml version=\"1.0\" encoding=\"utf-8\"?&gt;\\n&lt;conve...</td>\n",
       "      <td>3</td>\n",
       "      <td>гребец опубликовать фото ладонь плавание север...</td>\n",
       "    </tr>\n",
       "    <tr>\n",
       "      <th>3</th>\n",
       "      <td>Плющенко рассказал о вреде «Ледникового период...</td>\n",
       "      <td>&lt;?xml version=\"1.0\" encoding=\"utf-8\"?&gt;\\n&lt;conve...</td>\n",
       "      <td>3</td>\n",
       "      <td>плющенко рассказать вред ледниковый период сот...</td>\n",
       "    </tr>\n",
       "    <tr>\n",
       "      <th>4</th>\n",
       "      <td>Генконсульство России в Сан-Франциско назвало ...</td>\n",
       "      <td>&lt;?xml version=\"1.0\" encoding=\"utf-8\"?&gt;\\n&lt;conve...</td>\n",
       "      <td>0</td>\n",
       "      <td>генконсульство россия сан франциско назвать чи...</td>\n",
       "    </tr>\n",
       "    <tr>\n",
       "      <th>5</th>\n",
       "      <td>Популярный блогер стал мэром американского гор...</td>\n",
       "      <td>&lt;?xml version=\"1.0\" encoding=\"utf-8\"?&gt;\\n&lt;conve...</td>\n",
       "      <td>2</td>\n",
       "      <td>популярный блогер стать мэр американский город...</td>\n",
       "    </tr>\n",
       "    <tr>\n",
       "      <th>6</th>\n",
       "      <td>СМИ узнали о растущем недовольстве Трампа рабо...</td>\n",
       "      <td>&lt;?xml version=\"1.0\" encoding=\"utf-8\"?&gt;\\n&lt;conve...</td>\n",
       "      <td>0</td>\n",
       "      <td>сми узнать расти недовольство трамп работа гос...</td>\n",
       "    </tr>\n",
       "  </tbody>\n",
       "</table>\n",
       "</div>"
      ],
      "text/plain": [
       "                                               title  \\\n",
       "0         Неймар купил пятиэтажку в пригороде Парижа   \n",
       "1               Официальный евро упал ниже 69 рублей   \n",
       "2  Гребец опубликовал фото ладоней после плавания...   \n",
       "3  Плющенко рассказал о вреде «Ледникового период...   \n",
       "4  Генконсульство России в Сан-Франциско назвало ...   \n",
       "5  Популярный блогер стал мэром американского гор...   \n",
       "6  СМИ узнали о растущем недовольстве Трампа рабо...   \n",
       "\n",
       "                                                text  topic  \\\n",
       "0  <?xml version=\"1.0\" encoding=\"utf-8\"?>\\n<conve...      3   \n",
       "1  <?xml version=\"1.0\" encoding=\"utf-8\"?>\\n<conve...      1   \n",
       "2  <?xml version=\"1.0\" encoding=\"utf-8\"?>\\n<conve...      3   \n",
       "3  <?xml version=\"1.0\" encoding=\"utf-8\"?>\\n<conve...      3   \n",
       "4  <?xml version=\"1.0\" encoding=\"utf-8\"?>\\n<conve...      0   \n",
       "5  <?xml version=\"1.0\" encoding=\"utf-8\"?>\\n<conve...      2   \n",
       "6  <?xml version=\"1.0\" encoding=\"utf-8\"?>\\n<conve...      0   \n",
       "\n",
       "                                           full_text  \n",
       "0  неймара купить пятиэтажка пригород париж напад...  \n",
       "1  официальный евро упасть ниже 69 рубль официаль...  \n",
       "2  гребец опубликовать фото ладонь плавание север...  \n",
       "3  плющенко рассказать вред ледниковый период сот...  \n",
       "4  генконсульство россия сан франциско назвать чи...  \n",
       "5  популярный блогер стать мэр американский город...  \n",
       "6  сми узнать расти недовольство трамп работа гос...  "
      ]
     },
     "execution_count": 9,
     "metadata": {},
     "output_type": "execute_result"
    }
   ],
   "source": [
    "processed_data.head(7)"
   ]
  },
  {
   "cell_type": "code",
   "execution_count": 10,
   "metadata": {},
   "outputs": [
    {
     "name": "stdout",
     "output_type": "stream",
     "text": [
      "345726 86432\n"
     ]
    }
   ],
   "source": [
    "X_train, X_test, y_train, y_test = train_test_split(processed_data['full_text'], processed_data['topic'], test_size=0.2, random_state=7777)\n",
    "print(len(X_train), len(X_test))"
   ]
  },
  {
   "cell_type": "markdown",
   "metadata": {},
   "source": [
    "# Word2Vec embedings"
   ]
  },
  {
   "cell_type": "markdown",
   "metadata": {},
   "source": [
    "Обучим word2vec модель"
   ]
  },
  {
   "cell_type": "code",
   "execution_count": 8,
   "metadata": {},
   "outputs": [],
   "source": [
    "sentences = [sentence.split() for sentence in X_train]"
   ]
  },
  {
   "cell_type": "code",
   "execution_count": 14,
   "metadata": {},
   "outputs": [],
   "source": [
    "w2v_model = Word2Vec(sentences, vector_size=100, window=5, min_count=3, workers=8, sg=1)"
   ]
  },
  {
   "cell_type": "code",
   "execution_count": 17,
   "metadata": {},
   "outputs": [
    {
     "data": {
      "text/plain": [
       "array([ 0.23805767,  0.7036084 ,  0.18839654,  0.45347333, -0.26198202,\n",
       "       -0.68588984, -0.06527497,  0.39142713, -0.69739413,  0.06932904,\n",
       "        0.44369426, -0.7212157 ,  0.5100227 ,  0.2687252 , -0.4151178 ,\n",
       "        0.09061045, -0.13010328,  0.13762179,  0.6829166 , -0.41863495,\n",
       "       -0.07417689,  0.4245636 ,  0.01416922,  0.61042476,  0.4587425 ,\n",
       "       -0.3271335 , -0.6955477 , -0.7737447 ,  0.1607661 , -0.21617351,\n",
       "        0.7184614 ,  0.14004898,  0.34254935, -0.04444069, -0.6250771 ,\n",
       "        0.19112079,  0.5089069 , -0.7879367 , -0.10950939, -0.45609626,\n",
       "       -0.36130303, -0.69623816,  0.2333642 ,  0.35861117,  0.6290178 ,\n",
       "       -0.13283807, -0.3145834 ,  0.4512644 ,  0.492996  ,  0.29017904,\n",
       "        0.8768191 , -0.95585424, -0.28114423, -0.32740495, -0.570504  ,\n",
       "        0.24714299, -0.62860096, -0.07503625,  0.30934706, -0.35006803,\n",
       "        0.19072853, -0.00767795, -0.08092419, -0.16029073, -0.28602365,\n",
       "        0.2635644 ,  0.06319304, -1.0248168 , -0.3473682 ,  0.108176  ,\n",
       "       -0.6302244 ,  0.29476535,  0.36974114,  0.8875198 ,  0.00467468,\n",
       "       -0.07017477,  0.83157796, -0.2961907 ,  0.01633155, -0.14118382,\n",
       "       -0.5133559 , -0.26413533, -0.5933154 , -0.04359368,  0.20875177,\n",
       "       -0.22815534,  0.06644906,  0.14217469,  0.5562483 , -0.09983614,\n",
       "       -0.6805789 , -0.259176  , -0.2577055 , -0.04075739,  0.16985567,\n",
       "       -0.32145345,  0.8154709 , -0.31407818,  0.4742636 , -0.03464866],\n",
       "      dtype=float32)"
      ]
     },
     "execution_count": 17,
     "metadata": {},
     "output_type": "execute_result"
    }
   ],
   "source": [
    "w2v_model.wv[\"мяч\"]"
   ]
  },
  {
   "cell_type": "code",
   "execution_count": 9,
   "metadata": {},
   "outputs": [
    {
     "name": "stdout",
     "output_type": "stream",
     "text": [
      "футбольный: 0.7939562201499939\n",
      "conmebol: 0.7575571537017822\n",
      "фифа: 0.7526984214782715\n",
      "баскетбол: 0.752697765827179\n",
      "cfb: 0.747600793838501\n",
      "волейбол: 0.7471038699150085\n",
      "бенди: 0.7454909682273865\n",
      "туаев: 0.7445250749588013\n",
      "сборная: 0.7438163161277771\n",
      "футболист: 0.7349651455879211\n"
     ]
    }
   ],
   "source": [
    "similar_words = w2v_model.wv.most_similar('футбол', topn=10)\n",
    "\n",
    "\n",
    "for word, score in similar_words:\n",
    "    print(f'{word}: {score}')\n"
   ]
  },
  {
   "cell_type": "code",
   "execution_count": 19,
   "metadata": {},
   "outputs": [],
   "source": [
    "word_vectors = w2v_model.wv"
   ]
  },
  {
   "cell_type": "code",
   "execution_count": 25,
   "metadata": {},
   "outputs": [],
   "source": [
    "words_to_visualize = [\"футболист\", \"футбол\", \"мяч\", \"спорт\", \"цветок\", \"мутко\", \"ананасовый\",\"хоккей\",\"волейбол\",\"неймар\",\"месси\"]"
   ]
  },
  {
   "cell_type": "code",
   "execution_count": 26,
   "metadata": {},
   "outputs": [
    {
     "data": {
      "image/png": "[encoded data removed]",
      "text/plain": [
       "<Figure size 1000x800 with 1 Axes>"
      ]
     },
     "metadata": {},
     "output_type": "display_data"
    }
   ],
   "source": [
    "tsne = TSNE(n_components=3, random_state=42,perplexity=5)\n",
    "word_vectors_3d = tsne.fit_transform(word_vectors[words_to_visualize])\n",
    "fig = plt.figure(figsize=(10, 8))\n",
    "ax = fig.add_subplot(111, projection='3d')\n",
    "ax.scatter(word_vectors_3d[:, 0], word_vectors_3d[:, 1], word_vectors_3d[:, 2], marker='o')\n",
    "\n",
    "for i, word in enumerate(words_to_visualize):\n",
    "    ax.text(word_vectors_3d[i, 0], word_vectors_3d[i, 1], word_vectors_3d[i, 2], word)\n",
    "\n",
    "plt.title('Визуализация векторного представления слов с помощью t-sne')\n",
    "plt.show()\n"
   ]
  },
  {
   "cell_type": "code",
   "execution_count": null,
   "metadata": {},
   "outputs": [],
   "source": [
    "w2v_model.save(\"/home/kenny/sber_ds_case/model/w2v/word2vec_skipgram.bin\")"
   ]
  },
  {
   "cell_type": "markdown",
   "metadata": {},
   "source": [
    "# На основе эмбедингов, полученных с помощью Word2Vec модели, обучим базовые модели и посмотрим на метрики качества"
   ]
  },
  {
   "cell_type": "code",
   "execution_count": 11,
   "metadata": {},
   "outputs": [],
   "source": [
    "w2v_model = Word2Vec.load(\"/home/kenny/sber_ds_case/model/w2v/word2vec_skipgram.bin\")"
   ]
  },
  {
   "cell_type": "code",
   "execution_count": 12,
   "metadata": {},
   "outputs": [],
   "source": [
    "def vectorize(sentence, w2v_model):\n",
    "    words = sentence.split()\n",
    "    words_vecs = [w2v_model.wv[word] for word in words if word in w2v_model.wv]\n",
    "    if len(words_vecs) == 0:\n",
    "        return np.zeros(100)\n",
    "    words_vecs = np.array(words_vecs)\n",
    "    return words_vecs.mean(axis=0)"
   ]
  },
  {
   "cell_type": "code",
   "execution_count": 13,
   "metadata": {},
   "outputs": [],
   "source": [
    "X_train = np.array([vectorize(sentence, w2v_model) for sentence in X_train])\n",
    "y_train = np.array(y_train)"
   ]
  },
  {
   "cell_type": "code",
   "execution_count": 15,
   "metadata": {},
   "outputs": [],
   "source": [
    "X_test = np.array([vectorize(sentence, w2v_model) for sentence in X_test])\n",
    "y_test = np.array(y_test)"
   ]
  },
  {
   "cell_type": "code",
   "execution_count": 16,
   "metadata": {},
   "outputs": [
    {
     "name": "stdout",
     "output_type": "stream",
     "text": [
      "LogisticRegression: \n",
      "              precision    recall  f1-score   support\n",
      "\n",
      "           0       0.92      0.94      0.93     27246\n",
      "           1       0.93      0.94      0.93     16079\n",
      "           2       0.83      0.80      0.81      9009\n",
      "           3       0.98      0.98      0.98     12914\n",
      "           4       0.93      0.93      0.93     10637\n",
      "           5       0.90      0.87      0.88     10547\n",
      "\n",
      "    accuracy                           0.92     86432\n",
      "   macro avg       0.91      0.91      0.91     86432\n",
      "weighted avg       0.92      0.92      0.92     86432\n",
      "\n",
      "\n",
      "[[25512   490   406    87   281   470]\n",
      " [  506 15045   307    34    50   137]\n",
      " [  705   373  7196    91   298   346]\n",
      " [  115    36    78 12634    27    24]\n",
      " [  316    46   298    28  9872    77]\n",
      " [  548   220   423    23   127  9206]]\n",
      "\n"
     ]
    }
   ],
   "source": [
    "clf = LogisticRegression()\n",
    "clf.fit(X_train, y_train)\n",
    "y_pred = clf.predict(X_test)\n",
    "print(\"LogisticRegression: \")\n",
    "print(classification_report(y_test, y_pred))\n",
    "print()\n",
    "print(confusion_matrix(y_test, y_pred))\n",
    "print()"
   ]
  },
  {
   "cell_type": "code",
   "execution_count": 17,
   "metadata": {},
   "outputs": [
    {
     "name": "stdout",
     "output_type": "stream",
     "text": [
      "ROC-AUC ovr: 0.991598460702883\n"
     ]
    }
   ],
   "source": [
    "# посчитаем ROC-AUC One-vs-Rest (OvR)\n",
    "y_prob = clf.predict_proba(X_test)\n",
    "roc_auc = roc_auc_score(y_test, y_prob, multi_class='ovr')\n",
    "print(f\"ROC-AUC ovr: {roc_auc}\")"
   ]
  },
  {
   "cell_type": "code",
   "execution_count": 18,
   "metadata": {},
   "outputs": [
    {
     "name": "stdout",
     "output_type": "stream",
     "text": [
      "ROC-AUC ovo: 0.9911905134788558\n"
     ]
    }
   ],
   "source": [
    "# посчитаем ROC-AUC One-vs-One (OvO)\n",
    "y_prob = clf.predict_proba(X_test)\n",
    "roc_auc = roc_auc_score(y_test, y_prob, multi_class='ovo')\n",
    "print(f\"ROC-AUC ovo: {roc_auc}\")"
   ]
  },
  {
   "cell_type": "code",
   "execution_count": 12,
   "metadata": {},
   "outputs": [
    {
     "name": "stdout",
     "output_type": "stream",
     "text": [
      "Random Forest: \n",
      "              precision    recall  f1-score   support\n",
      "\n",
      "           0       0.91      0.95      0.93     27168\n",
      "           1       0.93      0.94      0.93     15927\n",
      "           2       0.85      0.77      0.81      8951\n",
      "           3       0.98      0.97      0.98     12878\n",
      "           4       0.92      0.92      0.92     10817\n",
      "           5       0.91      0.89      0.90     10691\n",
      "\n",
      "    accuracy                           0.92     86432\n",
      "   macro avg       0.92      0.91      0.91     86432\n",
      "weighted avg       0.92      0.92      0.92     86432\n",
      "\n",
      "\n",
      "[[25737   395   288    54   247   447]\n",
      " [  490 14975   272    34    46   110]\n",
      " [  890   411  6879   106   350   315]\n",
      " [  185    50    61 12539    34     9]\n",
      " [  416    68   275    24  9958    76]\n",
      " [  527   212   326    11   146  9469]]\n",
      "\n"
     ]
    }
   ],
   "source": [
    "model_name = \"Random Forest\"\n",
    "rf_model = RandomForestClassifier(n_estimators=100,random_state=777)\n",
    "rf_model.fit(X_train, y_train)\n",
    "y_pred = rf_model.predict(X_test)\n",
    "print(\"Random Forest: \")\n",
    "print(classification_report(y_test, y_pred))\n",
    "print()\n",
    "print(confusion_matrix(y_test, y_pred))\n",
    "print()"
   ]
  },
  {
   "cell_type": "code",
   "execution_count": 13,
   "metadata": {},
   "outputs": [
    {
     "name": "stdout",
     "output_type": "stream",
     "text": [
      "ROC-AUC ovr: 0.9916627273325066\n"
     ]
    }
   ],
   "source": [
    "# посчитаем ROC-AUC One-vs-Rest (OvR)\n",
    "y_prob = rf_model.predict_proba(X_test)\n",
    "roc_auc = roc_auc_score(y_test, y_prob, multi_class='ovr')\n",
    "print(f\"ROC-AUC ovr: {roc_auc}\")"
   ]
  },
  {
   "cell_type": "code",
   "execution_count": 14,
   "metadata": {},
   "outputs": [
    {
     "name": "stdout",
     "output_type": "stream",
     "text": [
      "ROC-AUC ovo: 0.9909864730850981\n"
     ]
    }
   ],
   "source": [
    "# посчитаем ROC-AUC One-vs-One (OvO)\n",
    "y_prob = rf_model.predict_proba(X_test)\n",
    "roc_auc = roc_auc_score(y_test, y_prob, multi_class='ovo')\n",
    "print(f\"ROC-AUC ovo: {roc_auc}\")"
   ]
  },
  {
   "cell_type": "code",
   "execution_count": 12,
   "metadata": {},
   "outputs": [
    {
     "name": "stdout",
     "output_type": "stream",
     "text": [
      "Support Vector Machine: \n",
      "              precision    recall  f1-score   support\n",
      "\n",
      "           0       0.93      0.94      0.94     27168\n",
      "           1       0.94      0.94      0.94     15927\n",
      "           2       0.86      0.82      0.84      8951\n",
      "           3       0.98      0.99      0.98     12878\n",
      "           4       0.94      0.94      0.94     10817\n",
      "           5       0.91      0.90      0.90     10691\n",
      "\n",
      "    accuracy                           0.93     86432\n",
      "   macro avg       0.93      0.92      0.92     86432\n",
      "weighted avg       0.93      0.93      0.93     86432\n",
      "\n",
      "\n",
      "[[25592   388   381    89   255   463]\n",
      " [  419 15046   250    47    46   119]\n",
      " [  609   311  7353   106   259   313]\n",
      " [   84    30    48 12687    24     5]\n",
      " [  271    29   238    28 10163    88]\n",
      " [  454   166   290    12   120  9649]]\n",
      "\n"
     ]
    }
   ],
   "source": [
    "svm_model = SVC()\n",
    "svm_model.fit(X_train, y_train)\n",
    "y_pred = svm_model.predict(X_test)\n",
    "print(\"Support Vector Machine: \")\n",
    "print(classification_report(y_test, y_pred))\n",
    "print()\n",
    "print(confusion_matrix(y_test, y_pred))\n",
    "print()"
   ]
  },
  {
   "cell_type": "markdown",
   "metadata": {},
   "source": [
    "Наивный Байес"
   ]
  },
  {
   "cell_type": "code",
   "execution_count": 104,
   "metadata": {},
   "outputs": [
    {
     "name": "stdout",
     "output_type": "stream",
     "text": [
      "Naive Bayes: \n",
      "              precision    recall  f1-score   support\n",
      "\n",
      "           0       0.90      0.89      0.90     27168\n",
      "           1       0.89      0.90      0.90     15927\n",
      "           2       0.65      0.73      0.69      8951\n",
      "           3       0.99      0.92      0.95     12878\n",
      "           4       0.85      0.87      0.86     10817\n",
      "           5       0.84      0.82      0.83     10691\n",
      "\n",
      "    accuracy                           0.87     86432\n",
      "   macro avg       0.86      0.86      0.86     86432\n",
      "weighted avg       0.87      0.87      0.87     86432\n",
      "\n",
      "\n",
      "[[24259   561  1057    29   522   740]\n",
      " [  469 14392   689    19    48   310]\n",
      " [  690   589  6538    77   627   430]\n",
      " [  454   117   295 11852   119    41]\n",
      " [  477    89   727    28  9389   107]\n",
      " [  484   352   701    10   340  8804]]\n",
      "\n"
     ]
    }
   ],
   "source": [
    "nb_model = GaussianNB()\n",
    "nb_model.fit(X_train, y_train)\n",
    "y_pred = nb_model.predict(X_test)\n",
    "print(\"Naive Bayes: \")\n",
    "print(classification_report(y_test, y_pred))\n",
    "print()\n",
    "print(confusion_matrix(y_test, y_pred))\n",
    "print()"
   ]
  },
  {
   "cell_type": "code",
   "execution_count": 108,
   "metadata": {},
   "outputs": [
    {
     "name": "stdout",
     "output_type": "stream",
     "text": [
      "ROC-AUC ovr: 0.9796932429654661\n"
     ]
    }
   ],
   "source": [
    "# посчитаем ROC-AUC One-vs-Rest (OvR)\n",
    "y_prob = nb_model.predict_proba(X_test)\n",
    "roc_auc = roc_auc_score(y_test, y_prob, multi_class='ovr')\n",
    "print(f\"ROC-AUC ovr: {roc_auc}\")"
   ]
  },
  {
   "cell_type": "code",
   "execution_count": 109,
   "metadata": {},
   "outputs": [
    {
     "name": "stdout",
     "output_type": "stream",
     "text": [
      "ROC-AUC ovo: 0.9789096460554979\n"
     ]
    }
   ],
   "source": [
    "# посчитаем ROC-AUC One-vs-One (OvO)\n",
    "y_prob = nb_model.predict_proba(X_test)\n",
    "roc_auc = roc_auc_score(y_test, y_prob, multi_class='ovo')\n",
    "print(f\"ROC-AUC ovo: {roc_auc}\")"
   ]
  },
  {
   "cell_type": "markdown",
   "metadata": {},
   "source": [
    "# Обучим KNN + word2vec"
   ]
  },
  {
   "cell_type": "code",
   "execution_count": 30,
   "metadata": {},
   "outputs": [],
   "source": [
    "def knn_objective(trial: Trial) -> float:\n",
    "    n_neighbors = trial.suggest_int('n_neighbors', 1, 30)\n",
    "    weights = trial.suggest_categorical('weights', ['uniform', 'distance'])\n",
    "    \n",
    "    kf = StratifiedKFold(n_splits=5, shuffle=True, random_state=42)\n",
    "    \n",
    "    log_losses = []\n",
    "    \n",
    "    for train_index, val_index in kf.split(X_train, y_train):\n",
    "        X_train_kf, X_val_kf = X_train[train_index], X_train[val_index]\n",
    "        y_train_kf, y_val_kf = y_train[train_index], y_train[val_index]\n",
    "    \n",
    "        knn = KNeighborsClassifier(n_neighbors=n_neighbors, weights=weights)    \n",
    "        knn.fit(X_train_kf, y_train_kf)\n",
    "        \n",
    "        y_pred = knn.predict_proba(X_val_kf)\n",
    "        loss = log_loss(y_val_kf, y_pred)\n",
    "        log_losses.append(loss)\n",
    "    \n",
    "    mean_log_loss = sum(log_losses) / len(log_losses)\n",
    "    \n",
    "    return mean_log_loss"
   ]
  },
  {
   "cell_type": "code",
   "execution_count": 31,
   "metadata": {},
   "outputs": [
    {
     "name": "stderr",
     "output_type": "stream",
     "text": [
      "[I 2023-09-05 19:52:13,399] A new study created in memory with name: no-name-d47f6471-4933-48f8-8d8e-6efb1626088a\n",
      "[I 2023-09-05 19:54:44,537] Trial 0 finished with value: 0.3594473111267697 and parameters: {'n_neighbors': 24, 'weights': 'uniform'}. Best is trial 0 with value: 0.3594473111267697.\n",
      "[I 2023-09-05 19:57:15,032] Trial 1 finished with value: 0.35461763496744214 and parameters: {'n_neighbors': 25, 'weights': 'uniform'}. Best is trial 1 with value: 0.35461763496744214.\n",
      "[I 2023-09-05 19:59:44,225] Trial 2 finished with value: 1.1855981664376307 and parameters: {'n_neighbors': 3, 'weights': 'uniform'}. Best is trial 1 with value: 0.35461763496744214.\n",
      "[I 2023-09-05 20:02:13,679] Trial 3 finished with value: 0.40740626594244367 and parameters: {'n_neighbors': 18, 'weights': 'distance'}. Best is trial 1 with value: 0.35461763496744214.\n",
      "[I 2023-09-05 20:04:43,626] Trial 4 finished with value: 0.4968850741150243 and parameters: {'n_neighbors': 12, 'weights': 'distance'}. Best is trial 1 with value: 0.35461763496744214.\n",
      "[I 2023-09-05 20:07:12,955] Trial 5 finished with value: 0.40952170358686724 and parameters: {'n_neighbors': 18, 'weights': 'uniform'}. Best is trial 1 with value: 0.35461763496744214.\n",
      "[I 2023-09-05 20:09:42,744] Trial 6 finished with value: 0.32986720021571425 and parameters: {'n_neighbors': 30, 'weights': 'uniform'}. Best is trial 6 with value: 0.32986720021571425.\n",
      "[I 2023-09-05 20:12:11,887] Trial 7 finished with value: 0.4968850741150243 and parameters: {'n_neighbors': 12, 'weights': 'distance'}. Best is trial 6 with value: 0.32986720021571425.\n",
      "[I 2023-09-05 20:14:40,429] Trial 8 finished with value: 0.7471321925992154 and parameters: {'n_neighbors': 6, 'weights': 'uniform'}. Best is trial 6 with value: 0.32986720021571425.\n",
      "[I 2023-09-05 20:17:09,735] Trial 9 finished with value: 0.33104323012758463 and parameters: {'n_neighbors': 29, 'weights': 'distance'}. Best is trial 6 with value: 0.32986720021571425.\n"
     ]
    }
   ],
   "source": [
    "knn_study = optuna.create_study(direction='minimize')\n",
    "knn_study.optimize(knn_objective, n_trials=10)"
   ]
  },
  {
   "cell_type": "code",
   "execution_count": 54,
   "metadata": {},
   "outputs": [
    {
     "data": {
      "text/plain": [
       "{'n_neighbors': 30, 'weights': 'uniform'}"
      ]
     },
     "execution_count": 54,
     "metadata": {},
     "output_type": "execute_result"
    }
   ],
   "source": [
    "knn_study.best_params"
   ]
  },
  {
   "cell_type": "code",
   "execution_count": 33,
   "metadata": {},
   "outputs": [
    {
     "data": {
      "text/html": [
       "<style>#sk-container-id-2 {color: black;}#sk-container-id-2 pre{padding: 0;}#sk-container-id-2 div.sk-toggleable {background-color: white;}#sk-container-id-2 label.sk-toggleable__label {cursor: pointer;display: block;width: 100%;margin-bottom: 0;padding: 0.3em;box-sizing: border-box;text-align: center;}#sk-container-id-2 label.sk-toggleable__label-arrow:before {content: \"▸\";float: left;margin-right: 0.25em;color: #696969;}#sk-container-id-2 label.sk-toggleable__label-arrow:hover:before {color: black;}#sk-container-id-2 div.sk-estimator:hover label.sk-toggleable__label-arrow:before {color: black;}#sk-container-id-2 div.sk-toggleable__content {max-height: 0;max-width: 0;overflow: hidden;text-align: left;background-color: #f0f8ff;}#sk-container-id-2 div.sk-toggleable__content pre {margin: 0.2em;color: black;border-radius: 0.25em;background-color: #f0f8ff;}#sk-container-id-2 input.sk-toggleable__control:checked~div.sk-toggleable__content {max-height: 200px;max-width: 100%;overflow: auto;}#sk-container-id-2 input.sk-toggleable__control:checked~label.sk-toggleable__label-arrow:before {content: \"▾\";}#sk-container-id-2 div.sk-estimator input.sk-toggleable__control:checked~label.sk-toggleable__label {background-color: #d4ebff;}#sk-container-id-2 div.sk-label input.sk-toggleable__control:checked~label.sk-toggleable__label {background-color: #d4ebff;}#sk-container-id-2 input.sk-hidden--visually {border: 0;clip: rect(1px 1px 1px 1px);clip: rect(1px, 1px, 1px, 1px);height: 1px;margin: -1px;overflow: hidden;padding: 0;position: absolute;width: 1px;}#sk-container-id-2 div.sk-estimator {font-family: monospace;background-color: #f0f8ff;border: 1px dotted black;border-radius: 0.25em;box-sizing: border-box;margin-bottom: 0.5em;}#sk-container-id-2 div.sk-estimator:hover {background-color: #d4ebff;}#sk-container-id-2 div.sk-parallel-item::after {content: \"\";width: 100%;border-bottom: 1px solid gray;flex-grow: 1;}#sk-container-id-2 div.sk-label:hover label.sk-toggleable__label {background-color: #d4ebff;}#sk-container-id-2 div.sk-serial::before {content: \"\";position: absolute;border-left: 1px solid gray;box-sizing: border-box;top: 0;bottom: 0;left: 50%;z-index: 0;}#sk-container-id-2 div.sk-serial {display: flex;flex-direction: column;align-items: center;background-color: white;padding-right: 0.2em;padding-left: 0.2em;position: relative;}#sk-container-id-2 div.sk-item {position: relative;z-index: 1;}#sk-container-id-2 div.sk-parallel {display: flex;align-items: stretch;justify-content: center;background-color: white;position: relative;}#sk-container-id-2 div.sk-item::before, #sk-container-id-2 div.sk-parallel-item::before {content: \"\";position: absolute;border-left: 1px solid gray;box-sizing: border-box;top: 0;bottom: 0;left: 50%;z-index: -1;}#sk-container-id-2 div.sk-parallel-item {display: flex;flex-direction: column;z-index: 1;position: relative;background-color: white;}#sk-container-id-2 div.sk-parallel-item:first-child::after {align-self: flex-end;width: 50%;}#sk-container-id-2 div.sk-parallel-item:last-child::after {align-self: flex-start;width: 50%;}#sk-container-id-2 div.sk-parallel-item:only-child::after {width: 0;}#sk-container-id-2 div.sk-dashed-wrapped {border: 1px dashed gray;margin: 0 0.4em 0.5em 0.4em;box-sizing: border-box;padding-bottom: 0.4em;background-color: white;}#sk-container-id-2 div.sk-label label {font-family: monospace;font-weight: bold;display: inline-block;line-height: 1.2em;}#sk-container-id-2 div.sk-label-container {text-align: center;}#sk-container-id-2 div.sk-container {/* jupyter's `normalize.less` sets `[hidden] { display: none; }` but bootstrap.min.css set `[hidden] { display: none !important; }` so we also need the `!important` here to be able to override the default hidden behavior on the sphinx rendered scikit-learn.org. See: https://github.com/scikit-learn/scikit-learn/issues/21755 */display: inline-block !important;position: relative;}#sk-container-id-2 div.sk-text-repr-fallback {display: none;}</style><div id=\"sk-container-id-2\" class=\"sk-top-container\"><div class=\"sk-text-repr-fallback\"><pre>KNeighborsClassifier(n_neighbors=30)</pre><b>In a Jupyter environment, please rerun this cell to show the HTML representation or trust the notebook. <br />On GitHub, the HTML representation is unable to render, please try loading this page with nbviewer.org.</b></div><div class=\"sk-container\" hidden><div class=\"sk-item\"><div class=\"sk-estimator sk-toggleable\"><input class=\"sk-toggleable__control sk-hidden--visually\" id=\"sk-estimator-id-2\" type=\"checkbox\" checked><label for=\"sk-estimator-id-2\" class=\"sk-toggleable__label sk-toggleable__label-arrow\">KNeighborsClassifier</label><div class=\"sk-toggleable__content\"><pre>KNeighborsClassifier(n_neighbors=30)</pre></div></div></div></div></div>"
      ],
      "text/plain": [
       "KNeighborsClassifier(n_neighbors=30)"
      ]
     },
     "execution_count": 33,
     "metadata": {},
     "output_type": "execute_result"
    }
   ],
   "source": [
    "knn_params = knn_study.best_params\n",
    "knn_model = KNeighborsClassifier(**knn_params)  \n",
    "knn_model.fit(X_train, y_train)  "
   ]
  },
  {
   "cell_type": "code",
   "execution_count": 79,
   "metadata": {},
   "outputs": [
    {
     "name": "stdout",
     "output_type": "stream",
     "text": [
      "              precision    recall  f1-score   support\n",
      "\n",
      "           0       0.93      0.95      0.94     27168\n",
      "           1       0.94      0.95      0.94     15927\n",
      "           2       0.87      0.80      0.83      8951\n",
      "           3       0.98      0.98      0.98     12878\n",
      "           4       0.93      0.93      0.93     10817\n",
      "           5       0.91      0.91      0.91     10691\n",
      "\n",
      "    accuracy                           0.93     86432\n",
      "   macro avg       0.93      0.92      0.92     86432\n",
      "weighted avg       0.93      0.93      0.93     86432\n",
      "\n",
      "\n",
      "[[25745   367   274    58   247   477]\n",
      " [  403 15083   237    40    50   114]\n",
      " [  719   342  7184    95   308   303]\n",
      " [  137    31    61 12605    38     6]\n",
      " [  293    33   245    20 10110   116]\n",
      " [  439   152   298     6   104  9692]]\n"
     ]
    }
   ],
   "source": [
    "y_pred = knn_model.predict(X_test)\n",
    "\n",
    "print(classification_report(y_test, y_pred))\n",
    "print()\n",
    "print(confusion_matrix(y_test, y_pred))"
   ]
  },
  {
   "cell_type": "code",
   "execution_count": 80,
   "metadata": {},
   "outputs": [
    {
     "name": "stdout",
     "output_type": "stream",
     "text": [
      "ROC-AUC ovr: 0.9923566199564385\n"
     ]
    }
   ],
   "source": [
    "# посчитаем ROC-AUC One-vs-Rest (OvR)\n",
    "y_prob = knn_model.predict_proba(X_test)\n",
    "roc_auc = roc_auc_score(y_test, y_prob, multi_class='ovr')\n",
    "print(f\"ROC-AUC ovr: {roc_auc}\")"
   ]
  },
  {
   "cell_type": "code",
   "execution_count": 82,
   "metadata": {},
   "outputs": [
    {
     "name": "stdout",
     "output_type": "stream",
     "text": [
      "ROC-AUC ovo: 0.9919826263046715\n"
     ]
    }
   ],
   "source": [
    "# посчитаем ROC-AUC One-vs-One (OvO)\n",
    "roc_auc = roc_auc_score(y_test, y_prob, multi_class='ovo')\n",
    "print(f\"ROC-AUC ovo: {roc_auc}\")"
   ]
  },
  {
   "cell_type": "markdown",
   "metadata": {},
   "source": [
    "# Обучим NearestNeighbors"
   ]
  },
  {
   "cell_type": "code",
   "execution_count": 84,
   "metadata": {},
   "outputs": [],
   "source": [
    "nn_model = NearestNeighbors(n_neighbors=1)\n",
    "nn_model.fit(X_train)\n",
    "\n",
    "distances, indices = nn_model.kneighbors(X_test)\n",
    "y_pred = y_train[indices]"
   ]
  },
  {
   "cell_type": "code",
   "execution_count": 85,
   "metadata": {},
   "outputs": [
    {
     "name": "stdout",
     "output_type": "stream",
     "text": [
      "              precision    recall  f1-score   support\n",
      "\n",
      "           0       0.93      0.93      0.93     27168\n",
      "           1       0.93      0.94      0.94     15927\n",
      "           2       0.83      0.82      0.83      8951\n",
      "           3       0.98      0.98      0.98     12878\n",
      "           4       0.93      0.93      0.93     10817\n",
      "           5       0.89      0.90      0.89     10691\n",
      "\n",
      "    accuracy                           0.92     86432\n",
      "   macro avg       0.92      0.92      0.92     86432\n",
      "weighted avg       0.92      0.92      0.92     86432\n",
      "\n",
      "\n",
      "\n",
      "[[25390   474   441    71   270   522]\n",
      " [  460 14944   313    29    38   143]\n",
      " [  553   333  7339    84   285   357]\n",
      " [  123    54    91 12567    34     9]\n",
      " [  279    49   310    13 10016   150]\n",
      " [  484   159   346    10   113  9579]]\n"
     ]
    }
   ],
   "source": [
    "print(classification_report(y_test, y_pred))\n",
    "print('\\n')\n",
    "print(confusion_matrix(y_test, y_pred))"
   ]
  },
  {
   "cell_type": "markdown",
   "metadata": {},
   "source": [
    "# Обучим LightGBM + word2vec"
   ]
  },
  {
   "cell_type": "code",
   "execution_count": 48,
   "metadata": {},
   "outputs": [],
   "source": [
    "def lightgbm_objective(trial: Trial) -> float:\n",
    "\n",
    "    params = {\n",
    "        'objective': 'multiclass',\n",
    "        'metric': 'multi_logloss',\n",
    "        'boosting_type': 'gbdt',\n",
    "        'num_class': 6,\n",
    "        'num_leaves': trial.suggest_int('num_leaves', 2, 256),\n",
    "        'lambda_l1': trial.suggest_loguniform('lambda_l1', 1e-8, 10.0),\n",
    "        'lambda_l2': trial.suggest_loguniform('lambda_l2', 1e-8, 10.0),\n",
    "        'learning_rate': trial.suggest_loguniform('learning_rate', 1e-8, 1.0),\n",
    "        'feature_fraction': trial.suggest_uniform('feature_fraction', 0.1, 1.0),\n",
    "        'bagging_fraction': trial.suggest_uniform('bagging_fraction', 0.1, 1.0),\n",
    "        'bagging_freq': trial.suggest_int('bagging_freq', 1, 10),\n",
    "        'min_child_samples': trial.suggest_int('min_child_samples', 5, 100),\n",
    "        'num_boost_round': trial.suggest_int('num_boost_round', 10, 1000),\n",
    "        'early_stopping_rounds': trial.suggest_int('early_stopping_rounds', 5, 50),\n",
    "        'max_depth': trial.suggest_int('max_depth', 3, 12),\n",
    "        'n_estimators': trial.suggest_int('n_estimators', 20, 100),\n",
    "        'early_stopping_round': 100,\n",
    "        'verbose': -1,\n",
    "    }\n",
    "    params['device'] = 'gpu'\n",
    "    \n",
    "    kf = StratifiedKFold(n_splits=5, shuffle=True, random_state=42)\n",
    "    log_losses = []\n",
    "    \n",
    "    for train_index, val_index in kf.split(X_train, y_train):\n",
    "        X_train_kf, X_val_kf = X_train[train_index], X_train[val_index]\n",
    "        y_train_kf, y_val_kf = y_train[train_index], y_train[val_index]\n",
    "        \n",
    "\n",
    "        train_data = lgb.Dataset(X_train_kf, label=y_train_kf)\n",
    "        val_data = lgb.Dataset(X_val_kf, label=y_val_kf)\n",
    "\n",
    "        model = lgb.train(params, train_data, valid_sets=[val_data])\n",
    "        \n",
    "        y_pred = model.predict(X_val_kf)\n",
    "        loss = log_loss(y_val_kf, y_pred)\n",
    "        \n",
    "        log_losses.append(loss)\n",
    "    \n",
    "    mean_log_loss = sum(log_losses) / len(log_losses)\n",
    "    return mean_log_loss\n"
   ]
  },
  {
   "cell_type": "code",
   "execution_count": 50,
   "metadata": {},
   "outputs": [
    {
     "name": "stderr",
     "output_type": "stream",
     "text": [
      "[I 2023-09-05 20:38:41,206] A new study created in memory with name: no-name-d8b7c05b-dd9a-4f3d-a2a5-084213f33fe5\n",
      "[I 2023-09-05 20:42:04,154] Trial 0 finished with value: 1.7104084923880856 and parameters: {'num_leaves': 36, 'lambda_l1': 0.00015576655801295756, 'lambda_l2': 0.0005362439345381161, 'learning_rate': 4.348748504150784e-08, 'feature_fraction': 0.7550151863189081, 'bagging_fraction': 0.40117548779056644, 'bagging_freq': 10, 'min_child_samples': 30, 'num_boost_round': 614, 'early_stopping_rounds': 32, 'max_depth': 6, 'n_estimators': 88}. Best is trial 0 with value: 1.7104084923880856.\n",
      "[I 2023-09-05 20:45:56,581] Trial 1 finished with value: 1.6641602084961182 and parameters: {'num_leaves': 162, 'lambda_l1': 0.04939598939168582, 'lambda_l2': 5.616120207734103e-06, 'learning_rate': 2.529053874666693e-05, 'feature_fraction': 0.1581634014440057, 'bagging_fraction': 0.25543722908964206, 'bagging_freq': 3, 'min_child_samples': 19, 'num_boost_round': 682, 'early_stopping_rounds': 45, 'max_depth': 6, 'n_estimators': 92}. Best is trial 1 with value: 1.6641602084961182.\n",
      "[I 2023-09-05 20:52:40,350] Trial 2 finished with value: 0.19629831591147945 and parameters: {'num_leaves': 95, 'lambda_l1': 6.619106997447745, 'lambda_l2': 2.036449521076919e-08, 'learning_rate': 0.015878235055890026, 'feature_fraction': 0.5043490771104928, 'bagging_fraction': 0.8399165172622783, 'bagging_freq': 9, 'min_child_samples': 10, 'num_boost_round': 574, 'early_stopping_rounds': 31, 'max_depth': 9, 'n_estimators': 40}. Best is trial 2 with value: 0.19629831591147945.\n",
      "[I 2023-09-05 20:56:26,372] Trial 3 finished with value: 1.4533827027245187 and parameters: {'num_leaves': 20, 'lambda_l1': 2.3036011640249204e-06, 'lambda_l2': 2.9478982118869758e-06, 'learning_rate': 0.00012254286711914765, 'feature_fraction': 0.6881179207652869, 'bagging_fraction': 0.5912772574539054, 'bagging_freq': 1, 'min_child_samples': 18, 'num_boost_round': 800, 'early_stopping_rounds': 43, 'max_depth': 7, 'n_estimators': 87}. Best is trial 2 with value: 0.19629831591147945.\n",
      "[I 2023-09-05 21:04:27,941] Trial 4 finished with value: 0.4959655206346321 and parameters: {'num_leaves': 171, 'lambda_l1': 0.00011654788054116084, 'lambda_l2': 0.001141187970642822, 'learning_rate': 0.0021228627543105278, 'feature_fraction': 0.7087788985039642, 'bagging_fraction': 0.39384965275448214, 'bagging_freq': 8, 'min_child_samples': 67, 'num_boost_round': 477, 'early_stopping_rounds': 22, 'max_depth': 11, 'n_estimators': 28}. Best is trial 2 with value: 0.19629831591147945.\n"
     ]
    }
   ],
   "source": [
    "lightgbm_study = optuna.create_study(direction='minimize')\n",
    "lightgbm_study.optimize(lightgbm_objective, n_trials=5)"
   ]
  },
  {
   "cell_type": "code",
   "execution_count": 51,
   "metadata": {},
   "outputs": [
    {
     "data": {
      "text/plain": [
       "{'num_leaves': 95,\n",
       " 'lambda_l1': 6.619106997447745,\n",
       " 'lambda_l2': 2.036449521076919e-08,\n",
       " 'learning_rate': 0.015878235055890026,\n",
       " 'feature_fraction': 0.5043490771104928,\n",
       " 'bagging_fraction': 0.8399165172622783,\n",
       " 'bagging_freq': 9,\n",
       " 'min_child_samples': 10,\n",
       " 'num_boost_round': 574,\n",
       " 'early_stopping_rounds': 31,\n",
       " 'max_depth': 9,\n",
       " 'n_estimators': 40}"
      ]
     },
     "execution_count": 51,
     "metadata": {},
     "output_type": "execute_result"
    }
   ],
   "source": [
    "lightgbm_study.best_params"
   ]
  },
  {
   "cell_type": "code",
   "execution_count": 86,
   "metadata": {},
   "outputs": [],
   "source": [
    "lightgbm_params = lightgbm_study.best_params\n",
    "\n",
    "lightgbm_params['device'] = 'gpu'\n",
    "lightgbm_params['objective'] = 'multiclass'\n",
    "lightgbm_params['metric'] = 'multi_logloss'\n",
    "lightgbm_params['boosting_type'] = 'gbdt'\n",
    "lightgbm_params['num_class'] = 6\n",
    "lightgbm_params['early_stopping_round'] = 100\n",
    "lightgbm_params['verbose'] = -1\n",
    "\n",
    "train_data = lgb.Dataset(X_train, label=y_train)\n",
    "lgb_model = lgb.train(lightgbm_params, train_data, num_boost_round=1000, valid_sets=[train_data])"
   ]
  },
  {
   "cell_type": "code",
   "execution_count": 92,
   "metadata": {},
   "outputs": [
    {
     "name": "stdout",
     "output_type": "stream",
     "text": [
      "              precision    recall  f1-score   support\n",
      "\n",
      "           0       0.93      0.94      0.94     27168\n",
      "           1       0.94      0.95      0.94     15927\n",
      "           2       0.85      0.82      0.84      8951\n",
      "           3       0.98      0.98      0.98     12878\n",
      "           4       0.93      0.93      0.93     10817\n",
      "           5       0.91      0.90      0.90     10691\n",
      "\n",
      "    accuracy                           0.93     86432\n",
      "   macro avg       0.92      0.92      0.92     86432\n",
      "weighted avg       0.93      0.93      0.93     86432\n",
      "\n",
      "\n",
      "[[25607   386   376    76   247   476]\n",
      " [  418 15059   257    34    47   112]\n",
      " [  629   326  7322    91   260   323]\n",
      " [  113    43    62 12624    29     7]\n",
      " [  307    34   250    28 10106    92]\n",
      " [  443   167   304    11   121  9645]]\n"
     ]
    }
   ],
   "source": [
    "y_prob = lgb_model.predict(X_test)\n",
    "y_pred = np.argmax(y_prob, axis=1)\n",
    "\n",
    "print(classification_report(y_test, y_pred))\n",
    "print()\n",
    "print(confusion_matrix(y_test, y_pred))"
   ]
  },
  {
   "cell_type": "code",
   "execution_count": 93,
   "metadata": {},
   "outputs": [
    {
     "name": "stdout",
     "output_type": "stream",
     "text": [
      "ROC-AUC ovr: 0.994431693521756\n"
     ]
    }
   ],
   "source": [
    "# посчитаем ROC-AUC One-vs-Rest (OvR)\n",
    "roc_auc = roc_auc_score(y_test, y_prob, multi_class='ovr')\n",
    "print(f\"ROC-AUC ovr: {roc_auc}\")"
   ]
  },
  {
   "cell_type": "code",
   "execution_count": 94,
   "metadata": {},
   "outputs": [
    {
     "name": "stdout",
     "output_type": "stream",
     "text": [
      "ROC-AUC ovo: 0.9940913728620112\n"
     ]
    }
   ],
   "source": [
    "# посчитаем ROC-AUC One-vs-One (OvO)\n",
    "roc_auc = roc_auc_score(y_test, y_prob, multi_class='ovo')\n",
    "print(f\"ROC-AUC ovo: {roc_auc}\")"
   ]
  },
  {
   "cell_type": "markdown",
   "metadata": {},
   "source": [
    "# Обучим Catboost + word2vec"
   ]
  },
  {
   "cell_type": "code",
   "execution_count": 68,
   "metadata": {},
   "outputs": [],
   "source": [
    "def catboost_objective(\n",
    "    trial: Trial,\n",
    ") -> float:\n",
    "    \"\"\"\n",
    "    Calculates a trials for model params optimization\n",
    "    \"\"\"\n",
    "    params = {\n",
    "        \"learning_rate\": trial.suggest_float(\"learning_rate\", 0.1, 0.2),\n",
    "        \"l2_leaf_reg\": trial.suggest_int(\"l2_leaf_reg\", 1, 10),\n",
    "        \"iterations\": trial.suggest_int(\"iterations\", 800, 1500, 100),\n",
    "        \"random_strength\": trial.suggest_float(\"random_strength\", 1e-2, 1.0),\n",
    "        \"depth\": trial.suggest_int(\"depth\", 6, 12),\n",
    "        \"bootstrap_type\": \"Bayesian\",\n",
    "        \"bagging_temperature\": trial.suggest_float(\"bagging_temperature\", 0, 10),\n",
    "        \"task_type\": \"GPU\",\n",
    "    }\n",
    "    kf = StratifiedKFold(n_splits=5, shuffle=True, random_state=42)\n",
    "    log_losses = []\n",
    "    for train_index, val_index in kf.split(X_train, y_train):\n",
    "\n",
    "        X_train_kf, X_val_kf = X_train[train_index], X_train[val_index]\n",
    "        y_train_kf, y_val_kf = y_train[train_index], y_train[val_index]\n",
    "    \n",
    "        train_pool = Pool(\n",
    "            data=X_train_kf,\n",
    "            label=y_train_kf,\n",
    "        )\n",
    "\n",
    "        val_pool = Pool(\n",
    "            data=X_val_kf,\n",
    "            label=y_val_kf,\n",
    "        )\n",
    "        \n",
    "        gbm = CatBoostClassifier(**params)\n",
    "        gbm.fit(train_pool, eval_set=val_pool, verbose=200)\n",
    "        \n",
    "        y_pred = gbm.predict_proba(val_pool)\n",
    "        loss = log_loss(y_val_kf, y_pred)\n",
    "        \n",
    "        log_losses.append(loss)\n",
    "    \n",
    "    mean_log_loss = sum(log_losses) / len(log_losses)\n",
    "    \n",
    "    return mean_log_loss"
   ]
  },
  {
   "cell_type": "code",
   "execution_count": 69,
   "metadata": {},
   "outputs": [
    {
     "name": "stderr",
     "output_type": "stream",
     "text": [
      "[I 2023-09-05 21:17:49,160] A new study created in memory with name: no-name-8e091285-ba91-4424-9290-cbaf6be527d2\n"
     ]
    },
    {
     "name": "stdout",
     "output_type": "stream",
     "text": [
      "0:\tlearn: 1.2725303\ttest: 1.2745842\tbest: 1.2745842 (0)\ttotal: 192ms\tremaining: 3m 12s\n",
      "200:\tlearn: 0.1637419\ttest: 0.2195669\tbest: 0.2195669 (200)\ttotal: 23.9s\tremaining: 1m 35s\n",
      "400:\tlearn: 0.1175098\ttest: 0.2048764\tbest: 0.2048764 (400)\ttotal: 46.9s\tremaining: 1m 10s\n",
      "600:\tlearn: 0.0882208\ttest: 0.1985311\tbest: 0.1985311 (600)\ttotal: 1m 9s\tremaining: 46.4s\n",
      "800:\tlearn: 0.0679771\ttest: 0.1958772\tbest: 0.1958772 (800)\ttotal: 1m 33s\tremaining: 23.1s\n",
      "999:\tlearn: 0.0546923\ttest: 0.1947820\tbest: 0.1947762 (996)\ttotal: 1m 55s\tremaining: 0us\n",
      "bestTest = 0.1947761716\n",
      "bestIteration = 996\n",
      "Shrink model to first 997 iterations.\n",
      "0:\tlearn: 1.2754026\ttest: 1.2778451\tbest: 1.2778451 (0)\ttotal: 148ms\tremaining: 2m 27s\n",
      "200:\tlearn: 0.1631931\ttest: 0.2185300\tbest: 0.2185300 (200)\ttotal: 24s\tremaining: 1m 35s\n",
      "400:\tlearn: 0.1183133\ttest: 0.2031737\tbest: 0.2031737 (400)\ttotal: 47s\tremaining: 1m 10s\n",
      "600:\tlearn: 0.0903430\ttest: 0.1962204\tbest: 0.1962204 (600)\ttotal: 1m 9s\tremaining: 46.4s\n",
      "800:\tlearn: 0.0706557\ttest: 0.1925395\tbest: 0.1925395 (800)\ttotal: 1m 32s\tremaining: 23.1s\n",
      "999:\tlearn: 0.0562790\ttest: 0.1907505\tbest: 0.1907273 (988)\ttotal: 1m 55s\tremaining: 0us\n",
      "bestTest = 0.1907272817\n",
      "bestIteration = 988\n",
      "Shrink model to first 989 iterations.\n",
      "0:\tlearn: 1.2678819\ttest: 1.2687037\tbest: 1.2687037 (0)\ttotal: 207ms\tremaining: 3m 26s\n",
      "200:\tlearn: 0.1612856\ttest: 0.2139441\tbest: 0.2139441 (200)\ttotal: 24.3s\tremaining: 1m 36s\n",
      "400:\tlearn: 0.1157429\ttest: 0.1997858\tbest: 0.1997858 (400)\ttotal: 47.4s\tremaining: 1m 10s\n",
      "600:\tlearn: 0.0887269\ttest: 0.1942006\tbest: 0.1942006 (600)\ttotal: 1m 10s\tremaining: 46.6s\n",
      "800:\tlearn: 0.0693459\ttest: 0.1908908\tbest: 0.1908889 (799)\ttotal: 1m 33s\tremaining: 23.1s\n",
      "999:\tlearn: 0.0547744\ttest: 0.1893817\tbest: 0.1893817 (999)\ttotal: 1m 56s\tremaining: 0us\n",
      "bestTest = 0.1893816606\n",
      "bestIteration = 999\n",
      "0:\tlearn: 1.2843604\ttest: 1.2843647\tbest: 1.2843647 (0)\ttotal: 168ms\tremaining: 2m 47s\n",
      "200:\tlearn: 0.1640338\ttest: 0.2096518\tbest: 0.2096518 (200)\ttotal: 24.1s\tremaining: 1m 35s\n",
      "400:\tlearn: 0.1187553\ttest: 0.1945343\tbest: 0.1945343 (400)\ttotal: 47.1s\tremaining: 1m 10s\n",
      "600:\tlearn: 0.0904310\ttest: 0.1879537\tbest: 0.1879537 (600)\ttotal: 1m 9s\tremaining: 46.4s\n",
      "800:\tlearn: 0.0711491\ttest: 0.1850389\tbest: 0.1850124 (798)\ttotal: 1m 32s\tremaining: 23s\n",
      "999:\tlearn: 0.0566896\ttest: 0.1834298\tbest: 0.1833154 (981)\ttotal: 1m 55s\tremaining: 0us\n",
      "bestTest = 0.1833154343\n",
      "bestIteration = 981\n",
      "Shrink model to first 982 iterations.\n",
      "0:\tlearn: 1.2847606\ttest: 1.2843162\tbest: 1.2843162 (0)\ttotal: 200ms\tremaining: 3m 20s\n",
      "200:\tlearn: 0.1661185\ttest: 0.2124651\tbest: 0.2124651 (200)\ttotal: 23.8s\tremaining: 1m 34s\n",
      "400:\tlearn: 0.1205470\ttest: 0.1970918\tbest: 0.1970918 (400)\ttotal: 46.5s\tremaining: 1m 9s\n",
      "600:\tlearn: 0.0909708\ttest: 0.1902818\tbest: 0.1902818 (600)\ttotal: 1m 9s\tremaining: 46.2s\n",
      "800:\tlearn: 0.0707078\ttest: 0.1869125\tbest: 0.1869063 (798)\ttotal: 1m 32s\tremaining: 22.9s\n",
      "999:\tlearn: 0.0566464\ttest: 0.1853676\tbest: 0.1853659 (998)\ttotal: 1m 55s\tremaining: 0us\n",
      "bestTest = 0.185365926\n",
      "bestIteration = 998\n",
      "Shrink model to first 999 iterations.\n"
     ]
    },
    {
     "name": "stderr",
     "output_type": "stream",
     "text": [
      "[I 2023-09-05 21:27:38,449] Trial 0 finished with value: 0.18871325873543338 and parameters: {'learning_rate': 0.19648393394336078, 'l2_leaf_reg': 7, 'iterations': 1000, 'random_strength': 0.3539730591902545, 'depth': 11, 'bagging_temperature': 6.448279512789355}. Best is trial 0 with value: 0.18871325873543338.\n"
     ]
    },
    {
     "name": "stdout",
     "output_type": "stream",
     "text": [
      "0:\tlearn: 1.3214473\ttest: 1.3240406\tbest: 1.3240406 (0)\ttotal: 26.1ms\tremaining: 39.2s\n",
      "200:\tlearn: 0.1656176\ttest: 0.2107848\tbest: 0.2107848 (200)\ttotal: 4.69s\tremaining: 30.3s\n",
      "400:\tlearn: 0.1244183\ttest: 0.1980466\tbest: 0.1980466 (400)\ttotal: 9.1s\tremaining: 24.9s\n",
      "600:\tlearn: 0.0982265\ttest: 0.1927350\tbest: 0.1927350 (600)\ttotal: 13.5s\tremaining: 20.2s\n",
      "800:\tlearn: 0.0784516\ttest: 0.1901534\tbest: 0.1901534 (800)\ttotal: 17.9s\tremaining: 15.7s\n",
      "1000:\tlearn: 0.0628333\ttest: 0.1887387\tbest: 0.1887387 (1000)\ttotal: 22.4s\tremaining: 11.2s\n",
      "1200:\tlearn: 0.0508867\ttest: 0.1889119\tbest: 0.1886755 (1073)\ttotal: 26.9s\tremaining: 6.7s\n",
      "1400:\tlearn: 0.0414685\ttest: 0.1897051\tbest: 0.1886755 (1073)\ttotal: 31.4s\tremaining: 2.22s\n",
      "1499:\tlearn: 0.0376425\ttest: 0.1902905\tbest: 0.1886755 (1073)\ttotal: 33.6s\tremaining: 0us\n",
      "bestTest = 0.1886754595\n",
      "bestIteration = 1073\n",
      "Shrink model to first 1074 iterations.\n",
      "0:\tlearn: 1.3347716\ttest: 1.3352914\tbest: 1.3352914 (0)\ttotal: 25.3ms\tremaining: 38s\n",
      "200:\tlearn: 0.1671233\ttest: 0.2107136\tbest: 0.2107136 (200)\ttotal: 4.71s\tremaining: 30.4s\n",
      "400:\tlearn: 0.1250280\ttest: 0.1964729\tbest: 0.1964729 (400)\ttotal: 9.16s\tremaining: 25.1s\n",
      "600:\tlearn: 0.0991079\ttest: 0.1914818\tbest: 0.1914730 (599)\ttotal: 13.6s\tremaining: 20.3s\n",
      "800:\tlearn: 0.0796301\ttest: 0.1888493\tbest: 0.1888493 (800)\ttotal: 17.9s\tremaining: 15.7s\n",
      "1000:\tlearn: 0.0637466\ttest: 0.1877847\tbest: 0.1877778 (989)\ttotal: 22.4s\tremaining: 11.2s\n",
      "1200:\tlearn: 0.0517774\ttest: 0.1876786\tbest: 0.1876130 (1175)\ttotal: 26.9s\tremaining: 6.7s\n",
      "1400:\tlearn: 0.0422332\ttest: 0.1883217\tbest: 0.1875817 (1208)\ttotal: 31.5s\tremaining: 2.22s\n",
      "1499:\tlearn: 0.0382135\ttest: 0.1887254\tbest: 0.1875817 (1208)\ttotal: 33.7s\tremaining: 0us\n",
      "bestTest = 0.1875817039\n",
      "bestIteration = 1208\n",
      "Shrink model to first 1209 iterations.\n",
      "0:\tlearn: 1.3348086\ttest: 1.3358890\tbest: 1.3358890 (0)\ttotal: 25.4ms\tremaining: 38s\n",
      "200:\tlearn: 0.1666884\ttest: 0.2063813\tbest: 0.2063813 (200)\ttotal: 4.69s\tremaining: 30.3s\n",
      "400:\tlearn: 0.1274014\ttest: 0.1938959\tbest: 0.1938959 (400)\ttotal: 9.05s\tremaining: 24.8s\n",
      "600:\tlearn: 0.1009408\ttest: 0.1893058\tbest: 0.1893058 (600)\ttotal: 13.5s\tremaining: 20.2s\n",
      "800:\tlearn: 0.0810734\ttest: 0.1871203\tbest: 0.1871088 (799)\ttotal: 17.9s\tremaining: 15.6s\n",
      "1000:\tlearn: 0.0650468\ttest: 0.1862826\tbest: 0.1862262 (992)\ttotal: 22.4s\tremaining: 11.2s\n",
      "1200:\tlearn: 0.0531224\ttest: 0.1863847\tbest: 0.1862030 (1013)\ttotal: 26.9s\tremaining: 6.69s\n",
      "1400:\tlearn: 0.0430936\ttest: 0.1870026\tbest: 0.1862030 (1013)\ttotal: 31.4s\tremaining: 2.22s\n",
      "1499:\tlearn: 0.0388682\ttest: 0.1875661\tbest: 0.1862030 (1013)\ttotal: 33.6s\tremaining: 0us\n",
      "bestTest = 0.1862030199\n",
      "bestIteration = 1013\n",
      "Shrink model to first 1014 iterations.\n",
      "0:\tlearn: 1.3346933\ttest: 1.3351178\tbest: 1.3351178 (0)\ttotal: 25.2ms\tremaining: 37.7s\n",
      "200:\tlearn: 0.1686563\ttest: 0.2021250\tbest: 0.2021250 (200)\ttotal: 4.69s\tremaining: 30.3s\n",
      "400:\tlearn: 0.1281171\ttest: 0.1882966\tbest: 0.1882966 (400)\ttotal: 9.08s\tremaining: 24.9s\n",
      "600:\tlearn: 0.1008758\ttest: 0.1830461\tbest: 0.1830370 (599)\ttotal: 13.5s\tremaining: 20.2s\n",
      "800:\tlearn: 0.0805200\ttest: 0.1800625\tbest: 0.1800625 (800)\ttotal: 18s\tremaining: 15.7s\n",
      "1000:\tlearn: 0.0656512\ttest: 0.1787982\tbest: 0.1787982 (1000)\ttotal: 22.4s\tremaining: 11.2s\n",
      "1200:\tlearn: 0.0528918\ttest: 0.1781538\tbest: 0.1781020 (1196)\ttotal: 26.9s\tremaining: 6.7s\n",
      "1400:\tlearn: 0.0427926\ttest: 0.1788777\tbest: 0.1781020 (1196)\ttotal: 31.4s\tremaining: 2.22s\n",
      "1499:\tlearn: 0.0387815\ttest: 0.1792728\tbest: 0.1781020 (1196)\ttotal: 33.7s\tremaining: 0us\n",
      "bestTest = 0.1781020495\n",
      "bestIteration = 1196\n",
      "Shrink model to first 1197 iterations.\n",
      "0:\tlearn: 1.3347246\ttest: 1.3347671\tbest: 1.3347671 (0)\ttotal: 25.4ms\tremaining: 38.1s\n",
      "200:\tlearn: 0.1670960\ttest: 0.2059049\tbest: 0.2059049 (200)\ttotal: 4.7s\tremaining: 30.4s\n",
      "400:\tlearn: 0.1262859\ttest: 0.1925964\tbest: 0.1925964 (400)\ttotal: 9.14s\tremaining: 25.1s\n",
      "600:\tlearn: 0.0988825\ttest: 0.1874482\tbest: 0.1874482 (600)\ttotal: 13.6s\tremaining: 20.3s\n",
      "800:\tlearn: 0.0796021\ttest: 0.1849757\tbest: 0.1849269 (797)\ttotal: 18s\tremaining: 15.7s\n",
      "1000:\tlearn: 0.0639947\ttest: 0.1836032\tbest: 0.1836032 (1000)\ttotal: 22.5s\tremaining: 11.2s\n",
      "1200:\tlearn: 0.0518919\ttest: 0.1832758\tbest: 0.1831989 (1174)\ttotal: 26.9s\tremaining: 6.71s\n",
      "1400:\tlearn: 0.0420052\ttest: 0.1840142\tbest: 0.1831989 (1174)\ttotal: 31.5s\tremaining: 2.22s\n",
      "1499:\tlearn: 0.0379622\ttest: 0.1843566\tbest: 0.1831989 (1174)\ttotal: 33.7s\tremaining: 0us\n",
      "bestTest = 0.1831988597\n",
      "bestIteration = 1174\n",
      "Shrink model to first 1175 iterations.\n"
     ]
    },
    {
     "name": "stderr",
     "output_type": "stream",
     "text": [
      "[I 2023-09-05 21:30:34,687] Trial 1 finished with value: 0.18475214122162648 and parameters: {'learning_rate': 0.18433813991604778, 'l2_leaf_reg': 1, 'iterations': 1500, 'random_strength': 0.06967243130501688, 'depth': 7, 'bagging_temperature': 0.43831281258670307}. Best is trial 1 with value: 0.18475214122162648.\n"
     ]
    },
    {
     "name": "stdout",
     "output_type": "stream",
     "text": [
      "0:\tlearn: 1.2879018\ttest: 1.2904974\tbest: 1.2904974 (0)\ttotal: 35.9ms\tremaining: 50.2s\n",
      "200:\tlearn: 0.1823003\ttest: 0.2207193\tbest: 0.2207193 (200)\ttotal: 6.16s\tremaining: 36.7s\n",
      "400:\tlearn: 0.1487011\ttest: 0.2072502\tbest: 0.2072502 (400)\ttotal: 11.8s\tremaining: 29.5s\n",
      "600:\tlearn: 0.1252973\ttest: 0.2005300\tbest: 0.2005300 (600)\ttotal: 17.6s\tremaining: 23.4s\n",
      "800:\tlearn: 0.1075909\ttest: 0.1966906\tbest: 0.1966906 (800)\ttotal: 23.4s\tremaining: 17.5s\n",
      "1000:\tlearn: 0.0926583\ttest: 0.1946223\tbest: 0.1946110 (999)\ttotal: 29.1s\tremaining: 11.6s\n",
      "1200:\tlearn: 0.0797223\ttest: 0.1937553\tbest: 0.1937518 (1194)\ttotal: 35s\tremaining: 5.8s\n",
      "1399:\tlearn: 0.0692878\ttest: 0.1934948\tbest: 0.1933733 (1314)\ttotal: 40.8s\tremaining: 0us\n",
      "bestTest = 0.1933733146\n",
      "bestIteration = 1314\n",
      "Shrink model to first 1315 iterations.\n",
      "0:\tlearn: 1.2981183\ttest: 1.2977681\tbest: 1.2977681 (0)\ttotal: 37.1ms\tremaining: 51.9s\n",
      "200:\tlearn: 0.1814317\ttest: 0.2194238\tbest: 0.2194238 (200)\ttotal: 6.18s\tremaining: 36.9s\n",
      "400:\tlearn: 0.1479149\ttest: 0.2050088\tbest: 0.2050088 (400)\ttotal: 11.9s\tremaining: 29.6s\n",
      "600:\tlearn: 0.1252313\ttest: 0.1984194\tbest: 0.1984194 (600)\ttotal: 17.6s\tremaining: 23.4s\n",
      "800:\tlearn: 0.1075421\ttest: 0.1942615\tbest: 0.1942615 (800)\ttotal: 23.4s\tremaining: 17.5s\n",
      "1000:\tlearn: 0.0934077\ttest: 0.1916210\tbest: 0.1916210 (1000)\ttotal: 29.2s\tremaining: 11.6s\n",
      "1200:\tlearn: 0.0815474\ttest: 0.1897580\tbest: 0.1897574 (1199)\ttotal: 34.9s\tremaining: 5.79s\n",
      "1399:\tlearn: 0.0710734\ttest: 0.1891367\tbest: 0.1891097 (1393)\ttotal: 40.7s\tremaining: 0us\n",
      "bestTest = 0.189109658\n",
      "bestIteration = 1393\n",
      "Shrink model to first 1394 iterations.\n",
      "0:\tlearn: 1.2767576\ttest: 1.2764102\tbest: 1.2764102 (0)\ttotal: 38.2ms\tremaining: 53.4s\n",
      "200:\tlearn: 0.1824060\ttest: 0.2152331\tbest: 0.2152331 (200)\ttotal: 6.2s\tremaining: 37s\n",
      "400:\tlearn: 0.1485078\ttest: 0.2020284\tbest: 0.2020284 (400)\ttotal: 11.9s\tremaining: 29.7s\n",
      "600:\tlearn: 0.1251617\ttest: 0.1960379\tbest: 0.1960379 (600)\ttotal: 17.6s\tremaining: 23.5s\n",
      "800:\tlearn: 0.1078853\ttest: 0.1926165\tbest: 0.1926149 (799)\ttotal: 23.4s\tremaining: 17.5s\n",
      "1000:\tlearn: 0.0932767\ttest: 0.1906205\tbest: 0.1905946 (999)\ttotal: 29.1s\tremaining: 11.6s\n",
      "1200:\tlearn: 0.0812276\ttest: 0.1894476\tbest: 0.1894466 (1198)\ttotal: 34.9s\tremaining: 5.79s\n",
      "1399:\tlearn: 0.0705135\ttest: 0.1888351\tbest: 0.1888157 (1398)\ttotal: 40.7s\tremaining: 0us\n",
      "bestTest = 0.188815736\n",
      "bestIteration = 1398\n",
      "Shrink model to first 1399 iterations.\n",
      "0:\tlearn: 1.2909568\ttest: 1.2917239\tbest: 1.2917239 (0)\ttotal: 36.4ms\tremaining: 50.9s\n",
      "200:\tlearn: 0.1834756\ttest: 0.2108257\tbest: 0.2108257 (200)\ttotal: 6.27s\tremaining: 37.4s\n",
      "400:\tlearn: 0.1490634\ttest: 0.1964664\tbest: 0.1964664 (400)\ttotal: 12.1s\tremaining: 30.1s\n",
      "600:\tlearn: 0.1250810\ttest: 0.1893463\tbest: 0.1893463 (600)\ttotal: 17.9s\tremaining: 23.8s\n",
      "800:\tlearn: 0.1066695\ttest: 0.1857487\tbest: 0.1857487 (800)\ttotal: 23.8s\tremaining: 17.8s\n",
      "1000:\tlearn: 0.0924081\ttest: 0.1831862\tbest: 0.1831646 (999)\ttotal: 29.6s\tremaining: 11.8s\n",
      "1200:\tlearn: 0.0802340\ttest: 0.1817718\tbest: 0.1817629 (1195)\ttotal: 35.5s\tremaining: 5.88s\n",
      "1399:\tlearn: 0.0696546\ttest: 0.1806298\tbest: 0.1806298 (1399)\ttotal: 41.4s\tremaining: 0us\n",
      "bestTest = 0.1806298415\n",
      "bestIteration = 1399\n",
      "0:\tlearn: 1.2774489\ttest: 1.2774618\tbest: 1.2774618 (0)\ttotal: 38ms\tremaining: 53.1s\n",
      "200:\tlearn: 0.1823260\ttest: 0.2138355\tbest: 0.2138355 (200)\ttotal: 6.2s\tremaining: 37s\n",
      "400:\tlearn: 0.1480130\ttest: 0.1993335\tbest: 0.1993335 (400)\ttotal: 11.9s\tremaining: 29.7s\n",
      "600:\tlearn: 0.1259317\ttest: 0.1930721\tbest: 0.1930721 (600)\ttotal: 17.6s\tremaining: 23.5s\n",
      "800:\tlearn: 0.1081231\ttest: 0.1893691\tbest: 0.1893513 (799)\ttotal: 23.4s\tremaining: 17.5s\n",
      "1000:\tlearn: 0.0935598\ttest: 0.1869892\tbest: 0.1869892 (1000)\ttotal: 29.1s\tremaining: 11.6s\n",
      "1200:\tlearn: 0.0813343\ttest: 0.1857423\tbest: 0.1857423 (1200)\ttotal: 34.9s\tremaining: 5.79s\n",
      "1399:\tlearn: 0.0709861\ttest: 0.1848442\tbest: 0.1848396 (1398)\ttotal: 40.7s\tremaining: 0us\n",
      "bestTest = 0.1848396316\n",
      "bestIteration = 1398\n",
      "Shrink model to first 1399 iterations.\n"
     ]
    },
    {
     "name": "stderr",
     "output_type": "stream",
     "text": [
      "[I 2023-09-05 21:34:07,747] Trial 2 finished with value: 0.1873535755742281 and parameters: {'learning_rate': 0.19436718128847144, 'l2_leaf_reg': 3, 'iterations': 1400, 'random_strength': 0.4904929255326642, 'depth': 8, 'bagging_temperature': 2.2437329152328456}. Best is trial 1 with value: 0.18475214122162648.\n"
     ]
    },
    {
     "name": "stdout",
     "output_type": "stream",
     "text": [
      "0:\tlearn: 1.4181669\ttest: 1.4192548\tbest: 1.4192548 (0)\ttotal: 93.9ms\tremaining: 1m 33s\n",
      "200:\tlearn: 0.1960335\ttest: 0.2290609\tbest: 0.2290609 (200)\ttotal: 14.5s\tremaining: 57.6s\n",
      "400:\tlearn: 0.1597915\ttest: 0.2113265\tbest: 0.2113265 (400)\ttotal: 27.9s\tremaining: 41.6s\n",
      "600:\tlearn: 0.1359679\ttest: 0.2025677\tbest: 0.2025677 (600)\ttotal: 41.4s\tremaining: 27.5s\n",
      "800:\tlearn: 0.1165020\ttest: 0.1971213\tbest: 0.1971213 (800)\ttotal: 55.1s\tremaining: 13.7s\n",
      "999:\tlearn: 0.1023120\ttest: 0.1939405\tbest: 0.1939405 (999)\ttotal: 1m 8s\tremaining: 0us\n",
      "bestTest = 0.1939404739\n",
      "bestIteration = 999\n",
      "0:\tlearn: 1.4223768\ttest: 1.4238414\tbest: 1.4238414 (0)\ttotal: 87.9ms\tremaining: 1m 27s\n",
      "200:\tlearn: 0.1989350\ttest: 0.2308861\tbest: 0.2308861 (200)\ttotal: 14.3s\tremaining: 56.7s\n",
      "400:\tlearn: 0.1613328\ttest: 0.2111767\tbest: 0.2111767 (400)\ttotal: 27.7s\tremaining: 41.4s\n",
      "600:\tlearn: 0.1372306\ttest: 0.2020291\tbest: 0.2020291 (600)\ttotal: 41.2s\tremaining: 27.3s\n",
      "800:\tlearn: 0.1198695\ttest: 0.1967678\tbest: 0.1967678 (800)\ttotal: 54.4s\tremaining: 13.5s\n",
      "999:\tlearn: 0.1055264\ttest: 0.1932138\tbest: 0.1932138 (999)\ttotal: 1m 7s\tremaining: 0us\n",
      "bestTest = 0.1932137627\n",
      "bestIteration = 999\n",
      "0:\tlearn: 1.4128365\ttest: 1.4132867\tbest: 1.4132867 (0)\ttotal: 97.5ms\tremaining: 1m 37s\n",
      "200:\tlearn: 0.1991985\ttest: 0.2265915\tbest: 0.2265915 (200)\ttotal: 14.3s\tremaining: 56.9s\n",
      "400:\tlearn: 0.1617282\ttest: 0.2083755\tbest: 0.2083755 (400)\ttotal: 27.8s\tremaining: 41.5s\n",
      "600:\tlearn: 0.1380930\ttest: 0.1999863\tbest: 0.1999863 (600)\ttotal: 41s\tremaining: 27.2s\n",
      "800:\tlearn: 0.1197780\ttest: 0.1946816\tbest: 0.1946816 (800)\ttotal: 54.4s\tremaining: 13.5s\n",
      "999:\tlearn: 0.1044797\ttest: 0.1912584\tbest: 0.1912584 (999)\ttotal: 1m 7s\tremaining: 0us\n",
      "bestTest = 0.1912584345\n",
      "bestIteration = 999\n",
      "0:\tlearn: 1.4269100\ttest: 1.4266662\tbest: 1.4266662 (0)\ttotal: 96.7ms\tremaining: 1m 36s\n",
      "200:\tlearn: 0.1982445\ttest: 0.2207708\tbest: 0.2207708 (200)\ttotal: 14.5s\tremaining: 57.8s\n",
      "400:\tlearn: 0.1612554\ttest: 0.2018263\tbest: 0.2018263 (400)\ttotal: 28.1s\tremaining: 41.9s\n",
      "600:\tlearn: 0.1374918\ttest: 0.1932201\tbest: 0.1932201 (600)\ttotal: 41.4s\tremaining: 27.5s\n",
      "800:\tlearn: 0.1188190\ttest: 0.1876737\tbest: 0.1876737 (800)\ttotal: 55.1s\tremaining: 13.7s\n",
      "999:\tlearn: 0.1047781\ttest: 0.1845466\tbest: 0.1845466 (999)\ttotal: 1m 8s\tremaining: 0us\n",
      "bestTest = 0.1845466276\n",
      "bestIteration = 999\n",
      "0:\tlearn: 1.4312558\ttest: 1.4318080\tbest: 1.4318080 (0)\ttotal: 91.3ms\tremaining: 1m 31s\n",
      "200:\tlearn: 0.1985761\ttest: 0.2236496\tbest: 0.2236496 (200)\ttotal: 14.4s\tremaining: 57.2s\n",
      "400:\tlearn: 0.1604855\ttest: 0.2047934\tbest: 0.2047934 (400)\ttotal: 28s\tremaining: 41.8s\n",
      "600:\tlearn: 0.1358919\ttest: 0.1958588\tbest: 0.1958588 (600)\ttotal: 41.6s\tremaining: 27.6s\n",
      "800:\tlearn: 0.1182131\ttest: 0.1906563\tbest: 0.1906563 (800)\ttotal: 54.9s\tremaining: 13.6s\n",
      "999:\tlearn: 0.1035353\ttest: 0.1873308\tbest: 0.1873308 (999)\ttotal: 1m 8s\tremaining: 0us\n",
      "bestTest = 0.1873308017\n",
      "bestIteration = 999\n"
     ]
    },
    {
     "name": "stderr",
     "output_type": "stream",
     "text": [
      "[I 2023-09-05 21:39:57,339] Trial 3 finished with value: 0.19005801569115485 and parameters: {'learning_rate': 0.13585177566653217, 'l2_leaf_reg': 7, 'iterations': 1000, 'random_strength': 0.07119304571380701, 'depth': 10, 'bagging_temperature': 6.104538223529914}. Best is trial 1 with value: 0.18475214122162648.\n"
     ]
    },
    {
     "name": "stdout",
     "output_type": "stream",
     "text": [
      "0:\tlearn: 1.2986113\ttest: 1.3020851\tbest: 1.3020851 (0)\ttotal: 289ms\tremaining: 6m 14s\n",
      "200:\tlearn: 0.1539162\ttest: 0.2171121\tbest: 0.2171121 (200)\ttotal: 42.4s\tremaining: 3m 51s\n",
      "400:\tlearn: 0.1077275\ttest: 0.2023740\tbest: 0.2023740 (400)\ttotal: 1m 22s\tremaining: 3m 4s\n",
      "600:\tlearn: 0.0798359\ttest: 0.1963209\tbest: 0.1963209 (600)\ttotal: 2m 2s\tremaining: 2m 22s\n",
      "800:\tlearn: 0.0609724\ttest: 0.1935022\tbest: 0.1935019 (797)\ttotal: 2m 42s\tremaining: 1m 41s\n",
      "1000:\tlearn: 0.0475271\ttest: 0.1922844\tbest: 0.1922568 (996)\ttotal: 3m 22s\tremaining: 1m\n",
      "1200:\tlearn: 0.0375237\ttest: 0.1918988\tbest: 0.1918706 (1195)\ttotal: 4m 2s\tremaining: 20s\n",
      "1299:\tlearn: 0.0338948\ttest: 0.1921908\tbest: 0.1918706 (1195)\ttotal: 4m 22s\tremaining: 0us\n",
      "bestTest = 0.1918706348\n",
      "bestIteration = 1195\n",
      "Shrink model to first 1196 iterations.\n",
      "0:\tlearn: 1.2854015\ttest: 1.2873462\tbest: 1.2873462 (0)\ttotal: 265ms\tremaining: 5m 44s\n",
      "200:\tlearn: 0.1527026\ttest: 0.2177925\tbest: 0.2177925 (200)\ttotal: 42.5s\tremaining: 3m 52s\n",
      "400:\tlearn: 0.1072398\ttest: 0.2020739\tbest: 0.2020739 (400)\ttotal: 1m 22s\tremaining: 3m 4s\n",
      "600:\tlearn: 0.0801130\ttest: 0.1952192\tbest: 0.1952192 (600)\ttotal: 2m 1s\tremaining: 2m 21s\n",
      "800:\tlearn: 0.0612991\ttest: 0.1918391\tbest: 0.1918253 (799)\ttotal: 2m 41s\tremaining: 1m 40s\n",
      "1000:\tlearn: 0.0480517\ttest: 0.1902738\tbest: 0.1902738 (1000)\ttotal: 3m 21s\tremaining: 1m\n",
      "1200:\tlearn: 0.0387533\ttest: 0.1898556\tbest: 0.1898085 (1181)\ttotal: 4m\tremaining: 19.8s\n",
      "1299:\tlearn: 0.0343770\ttest: 0.1898965\tbest: 0.1897868 (1263)\ttotal: 4m 21s\tremaining: 0us\n",
      "bestTest = 0.1897867903\n",
      "bestIteration = 1263\n",
      "Shrink model to first 1264 iterations.\n",
      "0:\tlearn: 1.3030133\ttest: 1.3056241\tbest: 1.3056241 (0)\ttotal: 358ms\tremaining: 7m 45s\n",
      "200:\tlearn: 0.1527011\ttest: 0.2136867\tbest: 0.2136867 (200)\ttotal: 42.6s\tremaining: 3m 52s\n",
      "400:\tlearn: 0.1064658\ttest: 0.1992137\tbest: 0.1992137 (400)\ttotal: 1m 22s\tremaining: 3m 4s\n",
      "600:\tlearn: 0.0801424\ttest: 0.1935030\tbest: 0.1935030 (600)\ttotal: 2m 1s\tremaining: 2m 21s\n",
      "800:\tlearn: 0.0611103\ttest: 0.1906321\tbest: 0.1906290 (799)\ttotal: 2m 41s\tremaining: 1m 40s\n",
      "1000:\tlearn: 0.0477120\ttest: 0.1894179\tbest: 0.1894142 (999)\ttotal: 3m 21s\tremaining: 1m\n",
      "1200:\tlearn: 0.0379730\ttest: 0.1891944\tbest: 0.1891624 (1142)\ttotal: 4m 2s\tremaining: 20s\n",
      "1299:\tlearn: 0.0343012\ttest: 0.1893675\tbest: 0.1891465 (1239)\ttotal: 4m 21s\tremaining: 0us\n",
      "bestTest = 0.1891464636\n",
      "bestIteration = 1239\n",
      "Shrink model to first 1240 iterations.\n",
      "0:\tlearn: 1.2812251\ttest: 1.2817857\tbest: 1.2817857 (0)\ttotal: 308ms\tremaining: 6m 40s\n",
      "200:\tlearn: 0.1567893\ttest: 0.2070351\tbest: 0.2070351 (200)\ttotal: 41.8s\tremaining: 3m 48s\n",
      "400:\tlearn: 0.1106569\ttest: 0.1920498\tbest: 0.1920498 (400)\ttotal: 1m 21s\tremaining: 3m 2s\n",
      "600:\tlearn: 0.0831100\ttest: 0.1857141\tbest: 0.1857069 (597)\ttotal: 2m\tremaining: 2m 20s\n",
      "800:\tlearn: 0.0634768\ttest: 0.1824030\tbest: 0.1824030 (800)\ttotal: 2m 40s\tremaining: 1m 39s\n",
      "1000:\tlearn: 0.0491928\ttest: 0.1808469\tbest: 0.1808277 (988)\ttotal: 3m 20s\tremaining: 59.9s\n",
      "1200:\tlearn: 0.0393003\ttest: 0.1805533\tbest: 0.1804628 (1181)\ttotal: 4m\tremaining: 19.8s\n",
      "1299:\tlearn: 0.0352310\ttest: 0.1807070\tbest: 0.1804628 (1181)\ttotal: 4m 20s\tremaining: 0us\n",
      "bestTest = 0.1804627617\n",
      "bestIteration = 1181\n",
      "Shrink model to first 1182 iterations.\n",
      "0:\tlearn: 1.2856807\ttest: 1.2866260\tbest: 1.2866260 (0)\ttotal: 322ms\tremaining: 6m 58s\n",
      "200:\tlearn: 0.1561543\ttest: 0.2107172\tbest: 0.2107172 (200)\ttotal: 42.3s\tremaining: 3m 51s\n",
      "400:\tlearn: 0.1098981\ttest: 0.1958650\tbest: 0.1958650 (400)\ttotal: 1m 22s\tremaining: 3m 3s\n",
      "600:\tlearn: 0.0800102\ttest: 0.1893417\tbest: 0.1893417 (600)\ttotal: 2m 2s\tremaining: 2m 22s\n",
      "800:\tlearn: 0.0622930\ttest: 0.1860642\tbest: 0.1860510 (797)\ttotal: 2m 41s\tremaining: 1m 40s\n",
      "1000:\tlearn: 0.0487637\ttest: 0.1845949\tbest: 0.1845949 (1000)\ttotal: 3m 21s\tremaining: 1m\n",
      "1200:\tlearn: 0.0386810\ttest: 0.1840676\tbest: 0.1840190 (1177)\ttotal: 4m 1s\tremaining: 19.9s\n",
      "1299:\tlearn: 0.0343981\ttest: 0.1841249\tbest: 0.1840077 (1243)\ttotal: 4m 22s\tremaining: 0us\n",
      "bestTest = 0.1840076645\n",
      "bestIteration = 1243\n",
      "Shrink model to first 1244 iterations.\n"
     ]
    },
    {
     "name": "stderr",
     "output_type": "stream",
     "text": [
      "[I 2023-09-05 22:02:00,827] Trial 4 finished with value: 0.18705480937082086 and parameters: {'learning_rate': 0.19276577873992037, 'l2_leaf_reg': 10, 'iterations': 1300, 'random_strength': 0.5660671604720214, 'depth': 12, 'bagging_temperature': 4.487415219022568}. Best is trial 1 with value: 0.18475214122162648.\n"
     ]
    }
   ],
   "source": [
    "catboost_study = optuna.create_study(direction='minimize')\n",
    "catboost_study.optimize(catboost_objective, n_trials=5)"
   ]
  },
  {
   "cell_type": "code",
   "execution_count": 70,
   "metadata": {},
   "outputs": [
    {
     "data": {
      "text/plain": [
       "{'learning_rate': 0.18433813991604778,\n",
       " 'l2_leaf_reg': 1,\n",
       " 'iterations': 1500,\n",
       " 'random_strength': 0.06967243130501688,\n",
       " 'depth': 7,\n",
       " 'bagging_temperature': 0.43831281258670307}"
      ]
     },
     "execution_count": 70,
     "metadata": {},
     "output_type": "execute_result"
    }
   ],
   "source": [
    "catboost_study.best_params"
   ]
  },
  {
   "cell_type": "code",
   "execution_count": 71,
   "metadata": {},
   "outputs": [
    {
     "data": {
      "application/vnd.jupyter.widget-view+json": {
       "model_id": "c2fcfc35429f4f4f90f9bcf3b27fc7c9",
       "version_major": 2,
       "version_minor": 0
      },
      "text/plain": [
       "MetricVisualizer(layout=Layout(align_self='stretch', height='500px'))"
      ]
     },
     "metadata": {},
     "output_type": "display_data"
    },
    {
     "name": "stdout",
     "output_type": "stream",
     "text": [
      "0:\tlearn: 1.3336603\ttest: 1.3336605\tbest: 1.3336605 (0)\ttotal: 33.4ms\tremaining: 50.1s\n",
      "200:\tlearn: 0.1706357\ttest: 0.1706357\tbest: 0.1706357 (200)\ttotal: 5.41s\tremaining: 34.9s\n",
      "400:\tlearn: 0.1328248\ttest: 0.1328247\tbest: 0.1328247 (400)\ttotal: 10.5s\tremaining: 28.7s\n",
      "600:\tlearn: 0.1080874\ttest: 0.1080874\tbest: 0.1080874 (600)\ttotal: 15.5s\tremaining: 23.2s\n",
      "800:\tlearn: 0.0900204\ttest: 0.0900205\tbest: 0.0900205 (800)\ttotal: 20.5s\tremaining: 17.9s\n",
      "1000:\tlearn: 0.0747991\ttest: 0.0747991\tbest: 0.0747991 (1000)\ttotal: 25.5s\tremaining: 12.7s\n",
      "1200:\tlearn: 0.0622179\ttest: 0.0622179\tbest: 0.0622179 (1200)\ttotal: 30.6s\tremaining: 7.62s\n",
      "1400:\tlearn: 0.0524675\ttest: 0.0524675\tbest: 0.0524675 (1400)\ttotal: 35.7s\tremaining: 2.52s\n",
      "1499:\tlearn: 0.0479610\ttest: 0.0479610\tbest: 0.0479610 (1499)\ttotal: 38.3s\tremaining: 0us\n",
      "bestTest = 0.04796096204\n",
      "bestIteration = 1499\n"
     ]
    },
    {
     "data": {
      "text/plain": [
       "<catboost.core.CatBoostClassifier at 0x7feafc76d4f0>"
      ]
     },
     "execution_count": 71,
     "metadata": {},
     "output_type": "execute_result"
    }
   ],
   "source": [
    "train_pool = Pool(\n",
    "    data=X_train,\n",
    "    label=y_train,\n",
    ")\n",
    "catboost_params=catboost_study.best_params\n",
    "catboost_params[\"bootstrap_type\"] =  \"Bayesian\"\n",
    "catboost_params[\"task_type\"]=\"GPU\"\n",
    "catboost_model = CatBoostClassifier(**catboost_params)\n",
    "catboost_model.fit(train_pool, eval_set=train_pool, verbose=200, plot=True)"
   ]
  },
  {
   "cell_type": "code",
   "execution_count": 73,
   "metadata": {},
   "outputs": [
    {
     "name": "stdout",
     "output_type": "stream",
     "text": [
      "              precision    recall  f1-score   support\n",
      "\n",
      "           0       0.94      0.94      0.94     27168\n",
      "           1       0.95      0.95      0.95     15927\n",
      "           2       0.86      0.84      0.85      8951\n",
      "           3       0.98      0.98      0.98     12878\n",
      "           4       0.94      0.94      0.94     10817\n",
      "           5       0.91      0.91      0.91     10691\n",
      "\n",
      "    accuracy                           0.93     86432\n",
      "   macro avg       0.93      0.93      0.93     86432\n",
      "weighted avg       0.93      0.93      0.93     86432\n",
      "\n",
      "\n",
      "[[25654   375   367    77   231   464]\n",
      " [  390 15094   246    33    42   122]\n",
      " [  540   276  7504    88   235   308]\n",
      " [   99    35    55 12659    26     4]\n",
      " [  280    29   210    24 10175    99]\n",
      " [  449   143   299     9   102  9689]]\n"
     ]
    }
   ],
   "source": [
    "test_pool = Pool(\n",
    "    data=X_test,\n",
    "    label=y_test,\n",
    ")\n",
    "y_pred = catboost_model.predict(test_pool)\n",
    "print(classification_report(y_test, y_pred))\n",
    "print()\n",
    "print(confusion_matrix(y_test, y_pred))"
   ]
  },
  {
   "cell_type": "code",
   "execution_count": 74,
   "metadata": {},
   "outputs": [
    {
     "name": "stdout",
     "output_type": "stream",
     "text": [
      "ROC-AUC ovr: 0.9951714098204568\n"
     ]
    }
   ],
   "source": [
    "# посчитаем ROC-AUC One-vs-Rest (OvR)\n",
    "y_prob = catboost_model.predict_proba(test_pool)\n",
    "roc_auc = roc_auc_score(y_test, y_prob, multi_class='ovr')\n",
    "print(f\"ROC-AUC ovr: {roc_auc}\")"
   ]
  },
  {
   "cell_type": "code",
   "execution_count": 76,
   "metadata": {},
   "outputs": [
    {
     "name": "stdout",
     "output_type": "stream",
     "text": [
      "ROC-AUC ovo: 0.9949198425563818\n"
     ]
    }
   ],
   "source": [
    "# посчитаем ROC-AUC One-vs-One (OvO)\n",
    "roc_auc = roc_auc_score(y_test, y_prob, multi_class='ovo')\n",
    "print(f\"ROC-AUC ovo: {roc_auc}\")"
   ]
  },
  {
   "cell_type": "markdown",
   "metadata": {},
   "source": [
    "# Попробуем теперь обучить CatBoost в холостую сразу на текстовых данных, не используя Word2Vec эмбединги"
   ]
  },
  {
   "cell_type": "code",
   "execution_count": 33,
   "metadata": {},
   "outputs": [
    {
     "data": {
      "application/vnd.jupyter.widget-view+json": {
       "model_id": "f38cdcc417fd4853b424f0153ce2be2e",
       "version_major": 2,
       "version_minor": 0
      },
      "text/plain": [
       "MetricVisualizer(layout=Layout(align_self='stretch', height='500px'))"
      ]
     },
     "metadata": {},
     "output_type": "display_data"
    },
    {
     "name": "stdout",
     "output_type": "stream",
     "text": [
      "0:\tlearn: 1.1111766\ttest: 1.1049796\tbest: 1.1049796 (0)\ttotal: 55.8ms\tremaining: 1m 23s\n",
      "200:\tlearn: 0.1799385\ttest: 0.1680032\tbest: 0.1680032 (200)\ttotal: 8.22s\tremaining: 53.1s\n",
      "400:\tlearn: 0.1547768\ttest: 0.1449538\tbest: 0.1449538 (400)\ttotal: 15.6s\tremaining: 42.7s\n",
      "600:\tlearn: 0.1394613\ttest: 0.1307895\tbest: 0.1307895 (600)\ttotal: 22.4s\tremaining: 33.6s\n",
      "800:\tlearn: 0.1284181\ttest: 0.1205284\tbest: 0.1205284 (800)\ttotal: 29.1s\tremaining: 25.4s\n",
      "1000:\tlearn: 0.1192032\ttest: 0.1119486\tbest: 0.1119486 (1000)\ttotal: 35.7s\tremaining: 17.8s\n",
      "1200:\tlearn: 0.1118695\ttest: 0.1051273\tbest: 0.1051273 (1200)\ttotal: 42.1s\tremaining: 10.5s\n",
      "1400:\tlearn: 0.1052737\ttest: 0.0989868\tbest: 0.0989868 (1400)\ttotal: 48.5s\tremaining: 3.43s\n",
      "1499:\tlearn: 0.1021580\ttest: 0.0961109\tbest: 0.0961109 (1499)\ttotal: 51.7s\tremaining: 0us\n",
      "bestTest = 0.09611092852\n",
      "bestIteration = 1499\n"
     ]
    },
    {
     "data": {
      "text/plain": [
       "<catboost.core.CatBoostClassifier at 0x7fc7d02c8460>"
      ]
     },
     "execution_count": 33,
     "metadata": {},
     "output_type": "execute_result"
    }
   ],
   "source": [
    "df_train = pd.read_csv(processed_data_path)\n",
    "drop_cols = [\"text\", \"title\"]\n",
    "df_train.drop(drop_cols, axis=1, inplace=True)\n",
    "df_train, df_val = train_test_split(\n",
    "    df_train, test_size=0.2, random_state=43, stratify=df_train[\"topic\"]\n",
    ")\n",
    "cat_features = []\n",
    "text_features = [\"full_text\"]\n",
    "train_pool = Pool(\n",
    "    data=df_train.drop([\"topic\"],axis=1),\n",
    "    cat_features=cat_features,\n",
    "    label=df_train[\"topic\"],\n",
    "    text_features=text_features,\n",
    ")\n",
    "catboost_params={\n",
    "    'learning_rate': 0.18433813991604778,\n",
    "    'l2_leaf_reg': 1,\n",
    "    'iterations': 1500,\n",
    "    'random_strength': 0.06967243130501688,\n",
    "    'depth': 7,\n",
    "    'bagging_temperature': 0.43831281258670307,\n",
    "}\n",
    "catboost_params[\"bootstrap_type\"] =  \"Bayesian\"\n",
    "catboost_params[\"task_type\"]=\"GPU\"\n",
    "catboost_model = CatBoostClassifier(**catboost_params)\n",
    "catboost_model.fit(train_pool, eval_set=train_pool, verbose=200, plot=True)"
   ]
  },
  {
   "cell_type": "code",
   "execution_count": 34,
   "metadata": {},
   "outputs": [],
   "source": [
    "test_pool = Pool(\n",
    "    data=df_val.drop([\"topic\"],axis=1),\n",
    "    cat_features=cat_features,\n",
    "    label=df_val[\"topic\"],\n",
    "    text_features=text_features,\n",
    ")"
   ]
  },
  {
   "cell_type": "code",
   "execution_count": 35,
   "metadata": {},
   "outputs": [
    {
     "name": "stdout",
     "output_type": "stream",
     "text": [
      "                 precision    recall  f1-score   support\n",
      "\n",
      " Интернет и СМИ       0.86      0.86      0.86      8933\n",
      "       Культура       0.94      0.95      0.94     10759\n",
      "            Мир       0.95      0.94      0.94     27324\n",
      "Наука и техника       0.91      0.92      0.92     10627\n",
      "          Спорт       0.98      0.99      0.99     12883\n",
      "      Экономика       0.95      0.95      0.95     15906\n",
      "\n",
      "       accuracy                           0.94     86432\n",
      "      macro avg       0.93      0.93      0.93     86432\n",
      "   weighted avg       0.94      0.94      0.94     86432\n",
      "\n",
      "\n",
      "[[ 7654   244   458   272    58   247]\n",
      " [  240 10194   209    71    14    31]\n",
      " [  362   293 25772   404    91   402]\n",
      " [  292    89   369  9757     5   115]\n",
      " [   54    22    65    15 12707    20]\n",
      " [  286    48   352   147    39 15034]]\n"
     ]
    }
   ],
   "source": [
    "y_pred = catboost_model.predict(test_pool)\n",
    "print(classification_report(df_val[\"topic\"], y_pred))\n",
    "print()\n",
    "print(confusion_matrix(df_val[\"topic\"], y_pred))"
   ]
  },
  {
   "cell_type": "code",
   "execution_count": 38,
   "metadata": {},
   "outputs": [
    {
     "name": "stdout",
     "output_type": "stream",
     "text": [
      "ROC-AUC ovr: 0.9955294013559568\n"
     ]
    }
   ],
   "source": [
    "# посчитаем ROC-AUC One-vs-Rest (OvR)\n",
    "y_prob = catboost_model.predict_proba(test_pool)\n",
    "roc_auc = roc_auc_score(df_val[\"topic\"], y_prob, multi_class='ovr')\n",
    "print(f\"ROC-AUC ovr: {roc_auc}\")"
   ]
  },
  {
   "cell_type": "code",
   "execution_count": 39,
   "metadata": {},
   "outputs": [
    {
     "name": "stdout",
     "output_type": "stream",
     "text": [
      "ROC-AUC ovo: 0.9953066018735685\n"
     ]
    }
   ],
   "source": [
    "# посчитаем ROC-AUC One-vs-One (OvO)\n",
    "roc_auc = roc_auc_score(df_val[\"topic\"], y_prob, multi_class='ovo')\n",
    "print(f\"ROC-AUC ovo: {roc_auc}\")"
   ]
  },
  {
   "cell_type": "markdown",
   "metadata": {},
   "source": [
    "Обучим полностью на всех данных"
   ]
  },
  {
   "cell_type": "code",
   "execution_count": 4,
   "metadata": {},
   "outputs": [
    {
     "data": {
      "application/vnd.jupyter.widget-view+json": {
       "model_id": "07e3d3d38c2e4fe584d6c6daa687235d",
       "version_major": 2,
       "version_minor": 0
      },
      "text/plain": [
       "MetricVisualizer(layout=Layout(align_self='stretch', height='500px'))"
      ]
     },
     "metadata": {},
     "output_type": "display_data"
    },
    {
     "name": "stdout",
     "output_type": "stream",
     "text": [
      "0:\tlearn: 1.1109169\ttest: 1.1059153\tbest: 1.1059153 (0)\ttotal: 67.1ms\tremaining: 1m 40s\n",
      "200:\tlearn: 0.1809856\ttest: 0.1709941\tbest: 0.1709941 (200)\ttotal: 9.57s\tremaining: 1m 1s\n",
      "400:\tlearn: 0.1572554\ttest: 0.1488295\tbest: 0.1488295 (400)\ttotal: 18.2s\tremaining: 49.8s\n",
      "600:\tlearn: 0.1426308\ttest: 0.1351370\tbest: 0.1351370 (600)\ttotal: 26.3s\tremaining: 39.3s\n",
      "800:\tlearn: 0.1318726\ttest: 0.1250706\tbest: 0.1250706 (800)\ttotal: 34.1s\tremaining: 29.7s\n",
      "1000:\tlearn: 0.1234608\ttest: 0.1171807\tbest: 0.1171807 (1000)\ttotal: 41.7s\tremaining: 20.8s\n",
      "1200:\tlearn: 0.1163852\ttest: 0.1105199\tbest: 0.1105199 (1200)\ttotal: 49.2s\tremaining: 12.2s\n",
      "1400:\tlearn: 0.1099579\ttest: 0.1044811\tbest: 0.1044811 (1400)\ttotal: 56.7s\tremaining: 4.01s\n",
      "1499:\tlearn: 0.1072113\ttest: 0.1018945\tbest: 0.1018945 (1499)\ttotal: 1m\tremaining: 0us\n",
      "bestTest = 0.1018944551\n",
      "bestIteration = 1499\n"
     ]
    },
    {
     "data": {
      "text/plain": [
       "<catboost.core.CatBoostClassifier at 0x7fd3e42bb550>"
      ]
     },
     "execution_count": 4,
     "metadata": {},
     "output_type": "execute_result"
    }
   ],
   "source": [
    "df_train = pd.read_csv(processed_data_path)\n",
    "drop_cols = [\"text\", \"title\"]\n",
    "df_train.drop(drop_cols, axis=1, inplace=True)\n",
    "cat_features = []\n",
    "text_features = [\"full_text\"]\n",
    "train_pool = Pool(\n",
    "    data=df_train.drop([\"topic\"],axis=1),\n",
    "    cat_features=cat_features,\n",
    "    label=df_train[\"topic\"],\n",
    "    text_features=text_features,\n",
    ")\n",
    "catboost_params={\n",
    "    'learning_rate': 0.18433813991604778,\n",
    "    'l2_leaf_reg': 1,\n",
    "    'iterations': 1500,\n",
    "    'random_strength': 0.06967243130501688,\n",
    "    'depth': 7,\n",
    "    'bagging_temperature': 0.43831281258670307,\n",
    "}\n",
    "catboost_params[\"bootstrap_type\"] =  \"Bayesian\"\n",
    "catboost_params[\"task_type\"]=\"GPU\"\n",
    "catboost_model = CatBoostClassifier(**catboost_params)\n",
    "catboost_model.fit(train_pool, eval_set=train_pool, verbose=200, plot=True)"
   ]
  },
  {
   "cell_type": "code",
   "execution_count": 40,
   "metadata": {},
   "outputs": [],
   "source": [
    "path_to_model = \"/home/kenny/sber_ds_case/model/catboost/catboost_classifier.cbm\"\n",
    "catboost_model.save_model(path_to_model)"
   ]
  },
  {
   "cell_type": "code",
   "execution_count": null,
   "metadata": {},
   "outputs": [],
   "source": []
  }
 ],
 "metadata": {
  "kernelspec": {
   "display_name": "sber_tech",
   "language": "python",
   "name": "python3"
  },
  "language_info": {
   "codemirror_mode": {
    "name": "ipython",
    "version": 3
   },
   "file_extension": ".py",
   "mimetype": "text/x-python",
   "name": "python",
   "nbconvert_exporter": "python",
   "pygments_lexer": "ipython3",
   "version": "3.8.17"
  },
  "orig_nbformat": 4
 },
 "nbformat": 4,
 "nbformat_minor": 2
}
